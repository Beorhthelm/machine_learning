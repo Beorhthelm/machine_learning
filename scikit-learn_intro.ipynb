{
 "cells": [
  {
   "attachments": {},
   "cell_type": "markdown",
   "metadata": {
    "deletable": false,
    "editable": false,
    "id": "hMIq9t_Fulek",
    "nbgrader": {
     "cell_type": "markdown",
     "checksum": "48b1b18e5744b9923fecb4fe243435a5",
     "grade": false,
     "grade_id": "title",
     "locked": true,
     "schema_version": 3,
     "solution": false,
     "task": false
    }
   },
   "source": [
    "### Table of Contents:\n",
    "* [Part 1.](#part1) Exploratory data analysis\n",
    "* [Part 2.](#part2) Text data analysis\n",
    "\n",
    "---\n",
    "## Part 1. Exploratory data analysis <a class=\"anchor\" id=\"part1\"></a>\n",
    "---"
   ]
  },
  {
   "cell_type": "code",
   "execution_count": 1,
   "metadata": {
    "deletable": false,
    "editable": false,
    "id": "gXOaeCBWOXB5",
    "nbgrader": {
     "cell_type": "code",
     "checksum": "85c046a2445fc77a0301bb0635f1d576",
     "grade": false,
     "grade_id": "cell-88a28302797f3f68",
     "locked": true,
     "schema_version": 3,
     "solution": false,
     "task": false
    }
   },
   "outputs": [],
   "source": [
    "import numpy as np\n",
    "import pandas as pd\n",
    "import matplotlib.pyplot as plt\n",
    "\n",
    "from sklearn.base import BaseEstimator\n",
    "from sklearn.model_selection import GridSearchCV, train_test_split, cross_val_score\n",
    "from sklearn.preprocessing import StandardScaler, PolynomialFeatures \n",
    "from sklearn.preprocessing import OneHotEncoder, OrdinalEncoder\n",
    "from sklearn.compose import ColumnTransformer\n",
    "from sklearn.linear_model import LinearRegression, Ridge, Lasso, ElasticNet\n",
    "from sklearn.neighbors import  KNeighborsRegressor\n",
    "from sklearn.pipeline import Pipeline, make_pipeline\n",
    "from sklearn.metrics import mean_squared_error, mean_absolute_error, r2_score\n",
    "\n",
    "import os"
   ]
  },
  {
   "attachments": {},
   "cell_type": "markdown",
   "metadata": {
    "deletable": false,
    "editable": false,
    "id": "0vzRNFiurO6X",
    "nbgrader": {
     "cell_type": "markdown",
     "checksum": "bbaf4208556b7edcfaad51b7decac2a7",
     "grade": false,
     "grade_id": "cell-421725e4973aa676",
     "locked": true,
     "schema_version": 3,
     "solution": false,
     "task": false
    }
   },
   "source": [
    "Here we will go through standard exploratory data analysis and preprocessing steps as well as use them to prepare a dataset and train a predictive model.\n",
    "\n",
    "Let's take a look at the data. We will analyze a dataset of diamond characterics, such as size, color and clarity, in order to train a model to predict it's price.\n",
    "\n",
    "The data used in this task is slighly preprocessed open dataset from Kaggle: https://www.kaggle.com/shivam2503/diamonds\n",
    "\n",
    "First, we need to exclude the target variable, `price`, and split the dataset into train and test sets."
   ]
  },
  {
   "cell_type": "code",
   "execution_count": 2,
   "metadata": {
    "colab": {
     "base_uri": "https://localhost:8080/",
     "height": 195
    },
    "deletable": false,
    "editable": false,
    "executionInfo": {
     "elapsed": 1930,
     "status": "ok",
     "timestamp": 1607626702573,
     "user": {
      "displayName": "Марина Поминова",
      "photoUrl": "",
      "userId": "04196186528550871600"
     },
     "user_tz": -180
    },
    "id": "KdlG4LxYVqmT",
    "nbgrader": {
     "cell_type": "code",
     "checksum": "450e2344c4d436702ff7a70050ac7e6d",
     "grade": false,
     "grade_id": "cell-52b3a70201c21899",
     "locked": true,
     "schema_version": 3,
     "solution": false,
     "task": false
    },
    "outputId": "e37e6158-c658-4228-a30f-14144bfa79ea"
   },
   "outputs": [
    {
     "data": {
      "text/html": [
       "<div>\n",
       "<style scoped>\n",
       "    .dataframe tbody tr th:only-of-type {\n",
       "        vertical-align: middle;\n",
       "    }\n",
       "\n",
       "    .dataframe tbody tr th {\n",
       "        vertical-align: top;\n",
       "    }\n",
       "\n",
       "    .dataframe thead th {\n",
       "        text-align: right;\n",
       "    }\n",
       "</style>\n",
       "<table border=\"1\" class=\"dataframe\">\n",
       "  <thead>\n",
       "    <tr style=\"text-align: right;\">\n",
       "      <th></th>\n",
       "      <th>carat</th>\n",
       "      <th>cut</th>\n",
       "      <th>color</th>\n",
       "      <th>clarity</th>\n",
       "      <th>depth</th>\n",
       "      <th>table</th>\n",
       "      <th>price</th>\n",
       "      <th>x</th>\n",
       "      <th>y</th>\n",
       "      <th>z</th>\n",
       "    </tr>\n",
       "  </thead>\n",
       "  <tbody>\n",
       "    <tr>\n",
       "      <th>1</th>\n",
       "      <td>0.23</td>\n",
       "      <td>Ideal</td>\n",
       "      <td>E</td>\n",
       "      <td>SI2</td>\n",
       "      <td>61.5</td>\n",
       "      <td>55.0</td>\n",
       "      <td>326</td>\n",
       "      <td>3.95</td>\n",
       "      <td>3.98</td>\n",
       "      <td>2.43</td>\n",
       "    </tr>\n",
       "    <tr>\n",
       "      <th>2</th>\n",
       "      <td>0.21</td>\n",
       "      <td>Premium</td>\n",
       "      <td>NaN</td>\n",
       "      <td>NaN</td>\n",
       "      <td>59.8</td>\n",
       "      <td>61.0</td>\n",
       "      <td>326</td>\n",
       "      <td>3.89</td>\n",
       "      <td>3.84</td>\n",
       "      <td>2.31</td>\n",
       "    </tr>\n",
       "    <tr>\n",
       "      <th>3</th>\n",
       "      <td>0.23</td>\n",
       "      <td>Good</td>\n",
       "      <td>E</td>\n",
       "      <td>VS1</td>\n",
       "      <td>56.9</td>\n",
       "      <td>NaN</td>\n",
       "      <td>327</td>\n",
       "      <td>4.05</td>\n",
       "      <td>4.07</td>\n",
       "      <td>2.31</td>\n",
       "    </tr>\n",
       "    <tr>\n",
       "      <th>4</th>\n",
       "      <td>0.29</td>\n",
       "      <td>Premium</td>\n",
       "      <td>I</td>\n",
       "      <td>VS2</td>\n",
       "      <td>62.4</td>\n",
       "      <td>58.0</td>\n",
       "      <td>334</td>\n",
       "      <td>4.20</td>\n",
       "      <td>4.23</td>\n",
       "      <td>2.63</td>\n",
       "    </tr>\n",
       "    <tr>\n",
       "      <th>5</th>\n",
       "      <td>0.31</td>\n",
       "      <td>Good</td>\n",
       "      <td>J</td>\n",
       "      <td>SI2</td>\n",
       "      <td>63.3</td>\n",
       "      <td>58.0</td>\n",
       "      <td>335</td>\n",
       "      <td>4.34</td>\n",
       "      <td>4.35</td>\n",
       "      <td>2.75</td>\n",
       "    </tr>\n",
       "  </tbody>\n",
       "</table>\n",
       "</div>"
      ],
      "text/plain": [
       "   carat      cut color clarity  depth  table  price     x     y     z\n",
       "1   0.23    Ideal     E     SI2   61.5   55.0    326  3.95  3.98  2.43\n",
       "2   0.21  Premium   NaN     NaN   59.8   61.0    326  3.89  3.84  2.31\n",
       "3   0.23     Good     E     VS1   56.9    NaN    327  4.05  4.07  2.31\n",
       "4   0.29  Premium     I     VS2   62.4   58.0    334  4.20  4.23  2.63\n",
       "5   0.31     Good     J     SI2   63.3   58.0    335  4.34  4.35  2.75"
      ]
     },
     "execution_count": 2,
     "metadata": {},
     "output_type": "execute_result"
    }
   ],
   "source": [
    "file_path = \"data/diamonds_prep.csv\"\n",
    "df = pd.read_csv(file_path, index_col=0)\n",
    "df.head()"
   ]
  },
  {
   "cell_type": "code",
   "execution_count": 3,
   "metadata": {
    "deletable": false,
    "editable": false,
    "id": "GEkiURROPcrB",
    "nbgrader": {
     "cell_type": "code",
     "checksum": "75a46dda094fc17ccff44ceb5bc5350d",
     "grade": false,
     "grade_id": "cell-82dd190d122fcd4c",
     "locked": true,
     "schema_version": 3,
     "solution": false,
     "task": false
    }
   },
   "outputs": [],
   "source": [
    "y = df[\"price\"]\n",
    "X = df.drop(\"price\", axis=1)\n",
    "\n",
    "X_tr, X_te, y_tr, y_te = train_test_split(X, y, test_size=0.3, random_state=1)"
   ]
  },
  {
   "attachments": {},
   "cell_type": "markdown",
   "metadata": {
    "deletable": false,
    "editable": false,
    "id": "OyIYOGktWHsn",
    "nbgrader": {
     "cell_type": "markdown",
     "checksum": "f55e9e113a9c69d63c7be4afad452479",
     "grade": false,
     "grade_id": "cell-5f20df0ca542d0ab",
     "locked": true,
     "schema_version": 3,
     "solution": false,
     "task": false
    }
   },
   "source": [
    "This dataset contains both numerical and categorical characteristics. The latter ones take string values, each of which means a certain category. Most standard machine learning algorithms are able to work only with numerical variables, and categorical data have to be additionally prepared before model training."
   ]
  },
  {
   "cell_type": "code",
   "execution_count": 4,
   "metadata": {
    "colab": {
     "base_uri": "https://localhost:8080/"
    },
    "deletable": false,
    "editable": false,
    "executionInfo": {
     "elapsed": 1049,
     "status": "ok",
     "timestamp": 1607626704085,
     "user": {
      "displayName": "Марина Поминова",
      "photoUrl": "",
      "userId": "04196186528550871600"
     },
     "user_tz": -180
    },
    "id": "IRFFmv-5VQpR",
    "nbgrader": {
     "cell_type": "code",
     "checksum": "b18096b9c36320d15b1386cdc44919d1",
     "grade": false,
     "grade_id": "cell-2d7b5ab032248c4f",
     "locked": true,
     "schema_version": 3,
     "solution": false,
     "task": false
    },
    "outputId": "99c243de-a35c-4f98-c15c-0feac520f3e6"
   },
   "outputs": [
    {
     "name": "stdout",
     "output_type": "stream",
     "text": [
      "Types of variables presented in the training data:\n",
      "\n"
     ]
    },
    {
     "data": {
      "text/plain": [
       "carat      float64\n",
       "cut         object\n",
       "color       object\n",
       "clarity     object\n",
       "depth      float64\n",
       "table      float64\n",
       "x          float64\n",
       "y          float64\n",
       "z          float64\n",
       "dtype: object"
      ]
     },
     "execution_count": 4,
     "metadata": {},
     "output_type": "execute_result"
    }
   ],
   "source": [
    "print(\"Types of variables presented in the training data:\\n\")\n",
    "X_tr.dtypes"
   ]
  },
  {
   "cell_type": "code",
   "execution_count": 5,
   "metadata": {
    "colab": {
     "base_uri": "https://localhost:8080/",
     "height": 793
    },
    "deletable": false,
    "editable": false,
    "executionInfo": {
     "elapsed": 1938,
     "status": "ok",
     "timestamp": 1607626705181,
     "user": {
      "displayName": "Марина Поминова",
      "photoUrl": "",
      "userId": "04196186528550871600"
     },
     "user_tz": -180
    },
    "id": "X6y1RzACYP95",
    "nbgrader": {
     "cell_type": "code",
     "checksum": "3df32e086c89dd0d0006eff6490b04f3",
     "grade": false,
     "grade_id": "cell-0876d0e36ccb8419",
     "locked": true,
     "schema_version": 3,
     "solution": false,
     "task": false
    },
    "outputId": "8bae3eae-5b70-4f4a-d115-72caba1cf767"
   },
   "outputs": [
    {
     "name": "stdout",
     "output_type": "stream",
     "text": [
      "Number of numerical features = 6 \n",
      "\n",
      "Distribution of numerical features:\n"
     ]
    },
    {
     "data": {
      "image/png": "[encoded data removed]",
      "text/plain": [
       "<Figure size 1500x1000 with 6 Axes>"
      ]
     },
     "metadata": {},
     "output_type": "display_data"
    }
   ],
   "source": [
    "num_cols = X_tr.columns[(X_tr.dtypes == \"int64\") |(X_tr.dtypes == \"float64\")].tolist() #\n",
    "print(\"Number of numerical features =\", len(num_cols), \"\\n\")\n",
    "\n",
    "print(\"Distribution of numerical features:\")\n",
    "X_tr[num_cols].hist(bins=20, grid=True, figsize=(15, 10), layout=(2, 3))\n",
    "plt.show()"
   ]
  },
  {
   "cell_type": "code",
   "execution_count": 6,
   "metadata": {
    "deletable": false,
    "editable": false,
    "nbgrader": {
     "cell_type": "code",
     "checksum": "37ad9a63762f64ea4298e21e8542ec95",
     "grade": false,
     "grade_id": "cell-d4e379677c14714b",
     "locked": true,
     "schema_version": 3,
     "solution": false,
     "task": false
    }
   },
   "outputs": [
    {
     "name": "stdout",
     "output_type": "stream",
     "text": [
      "Number of missing values in each column:\n",
      "\n"
     ]
    },
    {
     "data": {
      "text/plain": [
       "carat    1915\n",
       "depth    1913\n",
       "table    3784\n",
       "x        1854\n",
       "y        1875\n",
       "z        1885\n",
       "dtype: int64"
      ]
     },
     "execution_count": 6,
     "metadata": {},
     "output_type": "execute_result"
    }
   ],
   "source": [
    "print(\"Number of missing values in each column:\\n\")\n",
    "X_tr[num_cols].isnull().sum()"
   ]
  },
  {
   "cell_type": "code",
   "execution_count": 7,
   "metadata": {
    "colab": {
     "base_uri": "https://localhost:8080/",
     "height": 411
    },
    "deletable": false,
    "editable": false,
    "executionInfo": {
     "elapsed": 1082,
     "status": "ok",
     "timestamp": 1607626707336,
     "user": {
      "displayName": "Марина Поминова",
      "photoUrl": "",
      "userId": "04196186528550871600"
     },
     "user_tz": -180
    },
    "id": "2E06nhQV3yQe",
    "nbgrader": {
     "cell_type": "code",
     "checksum": "47f5ac4d7bc0cfec1a096a71ccb9e402",
     "grade": false,
     "grade_id": "cell-66cb8656f2877f5e",
     "locked": true,
     "schema_version": 3,
     "solution": false,
     "task": false
    },
    "outputId": "a8da2406-7127-41ed-c7e0-a62f7bd166d4"
   },
   "outputs": [
    {
     "name": "stdout",
     "output_type": "stream",
     "text": [
      "Number of categorical features = 3 \n",
      "\n",
      "Distribution of categorical features:\n"
     ]
    },
    {
     "data": {
      "image/png": "[encoded data removed]",
      "text/plain": [
       "<Figure size 1500x500 with 3 Axes>"
      ]
     },
     "metadata": {},
     "output_type": "display_data"
    }
   ],
   "source": [
    "cat_cols = X_tr.columns[X_tr.dtypes == \"object\"].tolist() #\n",
    "print(\"Number of categorical features =\", len(cat_cols), \"\\n\")\n",
    "\n",
    "print(\"Distribution of categorical features:\")\n",
    "plt.figure(figsize=(15, 5))\n",
    "for i, col in enumerate(cat_cols):\n",
    "    plt.subplot(1, 3, i + 1)\n",
    "    X_tr[col].value_counts(normalize=True).plot.pie(autopct=lambda x: f\"{round(x, 2)}%\")\n",
    "plt.show()"
   ]
  },
  {
   "cell_type": "code",
   "execution_count": 8,
   "metadata": {
    "deletable": false,
    "editable": false,
    "nbgrader": {
     "cell_type": "code",
     "checksum": "eaf3037f93a59efdc46c8fc3c945ca23",
     "grade": false,
     "grade_id": "cell-d1fa642d6113136c",
     "locked": true,
     "schema_version": 3,
     "solution": false,
     "task": false
    }
   },
   "outputs": [
    {
     "name": "stdout",
     "output_type": "stream",
     "text": [
      "Number of missing values in each column:\n",
      "\n"
     ]
    },
    {
     "data": {
      "text/plain": [
       "cut        1912\n",
       "color      3724\n",
       "clarity    1793\n",
       "dtype: int64"
      ]
     },
     "execution_count": 8,
     "metadata": {},
     "output_type": "execute_result"
    }
   ],
   "source": [
    "print(\"Number of missing values in each column:\\n\")\n",
    "X_tr[cat_cols].isnull().sum() "
   ]
  },
  {
   "attachments": {},
   "cell_type": "markdown",
   "metadata": {
    "deletable": false,
    "editable": false,
    "id": "5lDSZvIWW2z4",
    "nbgrader": {
     "cell_type": "markdown",
     "checksum": "83c0b8e39be5651b10a7b2f4b45840f4",
     "grade": false,
     "grade_id": "cell-221451761606d6cf",
     "locked": true,
     "schema_version": 3,
     "solution": false,
     "task": false
    }
   },
   "source": [
    "### Missing values\n",
    "Most of the classical models are unable to handle missing values. Thus, we need to remove them from the data or fill with some value.\n",
    "\n",
    "There exist various strategies to deal with missing values. If some column or row lacks a significant part of the data, it may be reasonable to completely drop it. However, in most cases, this leads to significant information loss. Instead, missing values can be filled with some constant (such as 0 or an empty string), or a statistic of the corresponding feature (such as mean, median, or mode). When filling missing values, one may also create an additional feature that indicates whether the value was present in the original data. This can be informative because sometimes the absence of a feature value can be a feature in itself."
   ]
  },
  {
   "attachments": {},
   "cell_type": "markdown",
   "metadata": {
    "deletable": false,
    "editable": false,
    "id": "KJ1A4hVqX9em",
    "nbgrader": {
     "cell_type": "markdown",
     "checksum": "c4a39da99f90fb3612b23c08f295f11f",
     "grade": false,
     "grade_id": "cell-c31cb9e7c7658e67",
     "locked": true,
     "schema_version": 3,
     "solution": false,
     "task": false
    }
   },
   "source": [
    "\n",
    "---\n",
    "Here is a function that removes objects from the dataset, if they have more than **50%** of missing values."
   ]
  },
  {
   "cell_type": "code",
   "execution_count": 9,
   "metadata": {
    "deletable": false,
    "id": "FyaDreYvWVwk",
    "nbgrader": {
     "cell_type": "code",
     "checksum": "4a588a0a2bd1dbf39f123d9826f31572",
     "grade": false,
     "grade_id": "cell-6d8dfb21a0185f75",
     "locked": false,
     "schema_version": 3,
     "solution": true,
     "task": false
    }
   },
   "outputs": [],
   "source": [
    "def drop_uninformative_objects(X, y):\n",
    "    criterion = X.isnull().sum(axis=1) <= X.shape[1] / 2\n",
    "    X_subset = X[criterion]\n",
    "    y_subset = y[criterion]\n",
    "    return X_subset, y_subset"
   ]
  },
  {
   "cell_type": "code",
   "execution_count": 10,
   "metadata": {
    "deletable": false,
    "editable": false,
    "id": "2w48l163XfKA",
    "nbgrader": {
     "cell_type": "code",
     "checksum": "e8e18b295aab3431a2037b4e82c93c3a",
     "grade": true,
     "grade_id": "cell-979228e097fcc15e",
     "locked": true,
     "points": 1,
     "schema_version": 3,
     "solution": false,
     "task": false
    }
   },
   "outputs": [],
   "source": [
    "# TEST drop_uninformative_objects function\n",
    "A = pd.DataFrame(np.array([\n",
    "    [0, 3, np.nan],\n",
    "    [4, np.nan, np.nan],\n",
    "    [np.nan, 6, 7],\n",
    "    [np.nan, np.nan, np.nan],\n",
    "    [5, 5, 5],\n",
    "    [np.nan, 8, np.nan],\n",
    "]))\n",
    "b = pd.Series(np.arange(6))\n",
    "A_subset, b_subset = drop_uninformative_objects(A, b)"
   ]
  },
  {
   "cell_type": "code",
   "execution_count": 11,
   "metadata": {},
   "outputs": [
    {
     "name": "stdout",
     "output_type": "stream",
     "text": [
      "     0    1    2\n",
      "0  0.0  3.0  NaN\n",
      "2  NaN  6.0  7.0\n",
      "4  5.0  5.0  5.0\n",
      "0    0\n",
      "2    2\n",
      "4    4\n",
      "dtype: int64\n"
     ]
    }
   ],
   "source": [
    "print(A_subset, b_subset, sep='\\n')"
   ]
  },
  {
   "attachments": {},
   "cell_type": "markdown",
   "metadata": {
    "deletable": false,
    "editable": false,
    "id": "yf3BYsH11CkW",
    "nbgrader": {
     "cell_type": "markdown",
     "checksum": "1b06f207ac154ac7520bd99b86db8e2f",
     "grade": false,
     "grade_id": "cell-880acd9fa0c54f24",
     "locked": true,
     "schema_version": 3,
     "solution": false,
     "task": false
    }
   },
   "source": [
    "Now, we can use this function to drop rows with too many missing values from the training dataset. "
   ]
  },
  {
   "cell_type": "code",
   "execution_count": 12,
   "metadata": {
    "deletable": false,
    "editable": false,
    "id": "hlW1fThA1NJ8",
    "nbgrader": {
     "cell_type": "code",
     "checksum": "a7006dbc1be1c7aab8b925b1b6b63784",
     "grade": false,
     "grade_id": "cell-8fa260291b829ac8",
     "locked": true,
     "schema_version": 3,
     "solution": false,
     "task": false
    }
   },
   "outputs": [],
   "source": [
    "X_tr, y_tr = drop_uninformative_objects(X_tr, y_tr)"
   ]
  },
  {
   "attachments": {},
   "cell_type": "markdown",
   "metadata": {
    "deletable": false,
    "editable": false,
    "id": "MN4iLoAG1U0s",
    "nbgrader": {
     "cell_type": "markdown",
     "checksum": "2d4f985742ac61db06866dc7df0c39c1",
     "grade": false,
     "grade_id": "cell-3014d9843873ca75",
     "locked": true,
     "schema_version": 3,
     "solution": false,
     "task": false
    }
   },
   "source": [
    "For categorical features, let's basically fill missing values with a constant value - an \"Unknown\" string."
   ]
  },
  {
   "cell_type": "code",
   "execution_count": 13,
   "metadata": {
    "deletable": false,
    "editable": false,
    "id": "PRx5qUP51T24",
    "nbgrader": {
     "cell_type": "code",
     "checksum": "922fc9f68c83aeb16919331c729ab905",
     "grade": false,
     "grade_id": "cell-836f59811bf6c15f",
     "locked": true,
     "schema_version": 3,
     "solution": false,
     "task": false
    }
   },
   "outputs": [],
   "source": [
    "X_tr[cat_cols] = X_tr[cat_cols].fillna(\"Unknown\")\n",
    "X_te[cat_cols] = X_te[cat_cols].fillna(\"Unknown\")"
   ]
  },
  {
   "attachments": {},
   "cell_type": "markdown",
   "metadata": {
    "deletable": false,
    "editable": false,
    "id": "brmXt9gnavYO",
    "nbgrader": {
     "cell_type": "markdown",
     "checksum": "cf492ee39a91ecd9e97b0534d2952898",
     "grade": false,
     "grade_id": "cell-2d5298936e2bfc9f",
     "locked": true,
     "schema_version": 3,
     "solution": false,
     "task": false
    }
   },
   "source": [
    "\n",
    "---\n",
    "For numerical features, let's implement a class that fills missing values in each feature with its mean value.\n",
    "\n",
    "- A `fit` method takes as input feature matrix `X` and computes and saves **mean** value of each feature (assuming that all the features are numerical). The feature matrix can be either `pd.DataFrame`, or `np.ndarray`.\n",
    "- A `transform` method takes as input feature matrix `X` and replaces NaN values in each feature with a corresponding mean value and returns a transformed feature matrix. \n",
    "\n",
    "The `fit` method also takes target variable `y` as argument. It is needed for compatibility with other ML staff, however, in this class target variable will not be used, and we will leave it equal to `None`."
   ]
  },
  {
   "cell_type": "code",
   "execution_count": 14,
   "metadata": {
    "deletable": false,
    "id": "EAKkPXn7XMEO",
    "nbgrader": {
     "cell_type": "code",
     "checksum": "2f2ea113cd20b0f91fa34fd8fef3c159",
     "grade": false,
     "grade_id": "cell-197464a29b5d7c45",
     "locked": false,
     "schema_version": 3,
     "solution": true,
     "task": false
    }
   },
   "outputs": [],
   "source": [
    "from sklearn.base import TransformerMixin, BaseEstimator\n",
    "\n",
    "\n",
    "class MeanImputer(BaseEstimator, TransformerMixin): \n",
    "    def fit(self, X, y=None):\n",
    "        \"\"\"\n",
    "        Compute and save mean value of each feature in the feature matrix.\n",
    "\n",
    "        Parameters\n",
    "        ----------\n",
    "        X : pd.DataFrame or numpy.ndarray of shape (n_samples, n_features)\n",
    "            Feature matrix.\n",
    "        y : pd.Series or numpy.ndarray of shape (n_samples,) (default : None)\n",
    "            Target values. Optional.\n",
    "        \n",
    "        Returns\n",
    "        -------\n",
    "        self : returns an instance of self.\n",
    "        \"\"\"\n",
    "        self.column_mean = []\n",
    "        for i in range(X.shape[1]):\n",
    "            if type(X) is not np.ndarray:\n",
    "                X_i = X.values[:, i]\n",
    "            else:\n",
    "                X_i = X[:, i]\n",
    "                \n",
    "            # calculate mean for each column and add to the list `self.column_mean`\n",
    "            self.column_mean.append(np.nanmean(X_i))\n",
    "        return self\n",
    "    \n",
    "    def transform(self, X):\n",
    "        \"\"\"\n",
    "        Fills missing values in each feature with a corresponding mean value.\n",
    "\n",
    "        Parameters\n",
    "        ----------\n",
    "        X : pd.DataFrame or numpy.ndarray of shape (n_samples, n_features)\n",
    "            Feature matrix.\n",
    "        \n",
    "        Returns\n",
    "        -------\n",
    "        X_transformed : array-like of shape (n_samples, n_features)\n",
    "            Transformed feature matrix. \n",
    "        \"\"\"\n",
    "\n",
    "        X_transformed = []\n",
    "        for i in range(len(self.column_mean)):\n",
    "            if type(X) is not np.ndarray:\n",
    "                X_i = X.values[:, i]\n",
    "            else:\n",
    "                X_i = X[:, i]\n",
    "                \n",
    "            # Fill missing values using mean values \n",
    "            X_i = np.nan_to_num(X_i, nan=self.column_mean[i])\n",
    "            X_transformed.append(X_i)\n",
    "        \n",
    "        X_transformed = np.column_stack(X_transformed)\n",
    "        return X_transformed"
   ]
  },
  {
   "cell_type": "code",
   "execution_count": 15,
   "metadata": {
    "deletable": false,
    "editable": false,
    "id": "w7kCQG5Jwf82",
    "nbgrader": {
     "cell_type": "code",
     "checksum": "58bf56289071162d410a78ee817c57f8",
     "grade": true,
     "grade_id": "cell-475729f5ca0dd035",
     "locked": true,
     "points": 2,
     "schema_version": 3,
     "solution": false,
     "task": false
    }
   },
   "outputs": [
    {
     "name": "stdout",
     "output_type": "stream",
     "text": [
      "[0.0, 7.0, 5.0]\n"
     ]
    }
   ],
   "source": [
    "# TEST MeanImputer class\n",
    "A = np.array([\n",
    "    [0, np.nan, 3],\n",
    "    [np.nan, 6, 7],\n",
    "    [np.nan, 8, np.nan],\n",
    "])\n",
    "mean_imp = MeanImputer()\n",
    "mean_imp.fit(A)\n",
    "print(mean_imp.column_mean)"
   ]
  },
  {
   "cell_type": "code",
   "execution_count": 16,
   "metadata": {},
   "outputs": [
    {
     "name": "stdout",
     "output_type": "stream",
     "text": [
      "[[0. 7. 3.]\n",
      " [0. 6. 7.]\n",
      " [0. 8. 5.]]\n"
     ]
    }
   ],
   "source": [
    "print(mean_imp.transform(A))"
   ]
  },
  {
   "attachments": {},
   "cell_type": "markdown",
   "metadata": {
    "deletable": false,
    "editable": false,
    "id": "9DYQPUz8EG2t",
    "nbgrader": {
     "cell_type": "markdown",
     "checksum": "6cf89bd227ed85037eab154de71d90c1",
     "grade": false,
     "grade_id": "cell-ca38bf936be8c65d",
     "locked": true,
     "schema_version": 3,
     "solution": false,
     "task": false
    }
   },
   "source": [
    "### Numerical features\n",
    "\n",
    "From the histograms of numerical variables, we can also see that different features have different value ranges. However, many machine learning models, in particular linear models and kNN algorithm, are sensitive to feature scales. Therefore, it is a good practice to scale all the numeric variables to the same range before training.`"
   ]
  },
  {
   "attachments": {},
   "cell_type": "markdown",
   "metadata": {
    "deletable": false,
    "editable": false,
    "id": "ghgohzq7XBLa",
    "nbgrader": {
     "cell_type": "markdown",
     "checksum": "b9c6a77793d29e05765e9174911b0c55",
     "grade": false,
     "grade_id": "cell-9c03b67ed70742bc",
     "locked": true,
     "schema_version": 3,
     "solution": false,
     "task": false
    }
   },
   "source": [
    "\n",
    "---\n",
    "For numerical features, let's impelement a class that normalizes each feature values by subtracting the mean and dividing by the standard deviation.\n",
    "\n",
    "- A `fit` method takes as input feature matrix `X` and computes and saves **mean** and **std** values of each feature (assuming that all the features are numerical). The feature matrix can be either `pd.DataFrame`, or `np.ndarray`.\n",
    "- A `transform` method takes as input feature matrix `X` and normalizes each column using precomputed mean and std values for this feature. "
   ]
  },
  {
   "cell_type": "code",
   "execution_count": 17,
   "metadata": {
    "deletable": false,
    "id": "H0-vXGv6Vc0c",
    "nbgrader": {
     "cell_type": "code",
     "checksum": "369f3b896c75247b3a31caefc34bfda6",
     "grade": false,
     "grade_id": "cell-e06a079c48b613eb",
     "locked": false,
     "schema_version": 3,
     "solution": true,
     "task": false
    }
   },
   "outputs": [],
   "source": [
    "from sklearn.base import TransformerMixin, BaseEstimator\n",
    "\n",
    "\n",
    "class Scaler(BaseEstimator, TransformerMixin):\n",
    "    def fit(self, X, y=None):\n",
    "        \"\"\"\n",
    "        Compute and save mean and standard deviation values \n",
    "        of each feature in the feature matrix.\n",
    "\n",
    "        Parameters\n",
    "        ----------\n",
    "        X : pd.DataFrame or numpy.ndarray of shape (n_samples, n_features)\n",
    "            Feature matrix.\n",
    "        y : pd.Series or numpy.ndarray of shape (n_samples,) (default : None)\n",
    "            Target values. Optional.\n",
    "        \n",
    "        Returns\n",
    "        -------\n",
    "        self : returns an instance of self.\n",
    "        \"\"\"\n",
    "        self.column_mean = []\n",
    "        self.column_std = []\n",
    "        for i in range(X.shape[1]):\n",
    "            # extract column values \n",
    "            if type(X) is not np.ndarray:\n",
    "                X_i = X.values[:, i]\n",
    "            else:\n",
    "                X_i = X[:, i]\n",
    "                \n",
    "            # compute mean and std\n",
    "            self.column_mean.append(np.nanmean(X_i))\n",
    "            self.column_std.append(np.nanstd(X_i))\n",
    "        return self\n",
    "    \n",
    "    def transform(self, X):\n",
    "        \"\"\"\n",
    "        Normalizes values of each feature \n",
    "        by subtructing the corresponding precomputed feature mean \n",
    "        and dividing by the corresponding standard deviation.\n",
    "\n",
    "        Parameters\n",
    "        ----------\n",
    "        X : pd.DataFrame or numpy.ndarray of shape (n_samples, n_features)\n",
    "            Feature matrix.\n",
    "        \n",
    "        Returns\n",
    "        -------\n",
    "        X_transformed : array-like of shape (n_samples, n_features)\n",
    "            Transformed feature matrix. \n",
    "        \"\"\"   \n",
    "        X_transformed = []\n",
    "        \n",
    "        for i in range(len(self.column_mean)):\n",
    "            # extract column values \n",
    "            if type(X) is not np.ndarray:\n",
    "                X_i = X.values[:, i]\n",
    "            else:\n",
    "                X_i = X[:, i]\n",
    "                \n",
    "            X_transformed.append((X_i - self.column_mean[i]) / self.column_std[i])\n",
    "            \n",
    "        X_transformed = np.column_stack(X_transformed)\n",
    "        return X_transformed"
   ]
  },
  {
   "cell_type": "code",
   "execution_count": 18,
   "metadata": {
    "deletable": false,
    "editable": false,
    "id": "Rt1uBpln7bhq",
    "nbgrader": {
     "cell_type": "code",
     "checksum": "2ab47249d3f6fd2fbaddaa0ac51e8bd1",
     "grade": true,
     "grade_id": "cell-34a318dd0934c18e",
     "locked": true,
     "points": 2,
     "schema_version": 3,
     "solution": false,
     "task": false
    }
   },
   "outputs": [
    {
     "data": {
      "text/html": [
       "<style>#sk-container-id-1 {color: black;background-color: white;}#sk-container-id-1 pre{padding: 0;}#sk-container-id-1 div.sk-toggleable {background-color: white;}#sk-container-id-1 label.sk-toggleable__label {cursor: pointer;display: block;width: 100%;margin-bottom: 0;padding: 0.3em;box-sizing: border-box;text-align: center;}#sk-container-id-1 label.sk-toggleable__label-arrow:before {content: \"▸\";float: left;margin-right: 0.25em;color: #696969;}#sk-container-id-1 label.sk-toggleable__label-arrow:hover:before {color: black;}#sk-container-id-1 div.sk-estimator:hover label.sk-toggleable__label-arrow:before {color: black;}#sk-container-id-1 div.sk-toggleable__content {max-height: 0;max-width: 0;overflow: hidden;text-align: left;background-color: #f0f8ff;}#sk-container-id-1 div.sk-toggleable__content pre {margin: 0.2em;color: black;border-radius: 0.25em;background-color: #f0f8ff;}#sk-container-id-1 input.sk-toggleable__control:checked~div.sk-toggleable__content {max-height: 200px;max-width: 100%;overflow: auto;}#sk-container-id-1 input.sk-toggleable__control:checked~label.sk-toggleable__label-arrow:before {content: \"▾\";}#sk-container-id-1 div.sk-estimator input.sk-toggleable__control:checked~label.sk-toggleable__label {background-color: #d4ebff;}#sk-container-id-1 div.sk-label input.sk-toggleable__control:checked~label.sk-toggleable__label {background-color: #d4ebff;}#sk-container-id-1 input.sk-hidden--visually {border: 0;clip: rect(1px 1px 1px 1px);clip: rect(1px, 1px, 1px, 1px);height: 1px;margin: -1px;overflow: hidden;padding: 0;position: absolute;width: 1px;}#sk-container-id-1 div.sk-estimator {font-family: monospace;background-color: #f0f8ff;border: 1px dotted black;border-radius: 0.25em;box-sizing: border-box;margin-bottom: 0.5em;}#sk-container-id-1 div.sk-estimator:hover {background-color: #d4ebff;}#sk-container-id-1 div.sk-parallel-item::after {content: \"\";width: 100%;border-bottom: 1px solid gray;flex-grow: 1;}#sk-container-id-1 div.sk-label:hover label.sk-toggleable__label {background-color: #d4ebff;}#sk-container-id-1 div.sk-serial::before {content: \"\";position: absolute;border-left: 1px solid gray;box-sizing: border-box;top: 0;bottom: 0;left: 50%;z-index: 0;}#sk-container-id-1 div.sk-serial {display: flex;flex-direction: column;align-items: center;background-color: white;padding-right: 0.2em;padding-left: 0.2em;position: relative;}#sk-container-id-1 div.sk-item {position: relative;z-index: 1;}#sk-container-id-1 div.sk-parallel {display: flex;align-items: stretch;justify-content: center;background-color: white;position: relative;}#sk-container-id-1 div.sk-item::before, #sk-container-id-1 div.sk-parallel-item::before {content: \"\";position: absolute;border-left: 1px solid gray;box-sizing: border-box;top: 0;bottom: 0;left: 50%;z-index: -1;}#sk-container-id-1 div.sk-parallel-item {display: flex;flex-direction: column;z-index: 1;position: relative;background-color: white;}#sk-container-id-1 div.sk-parallel-item:first-child::after {align-self: flex-end;width: 50%;}#sk-container-id-1 div.sk-parallel-item:last-child::after {align-self: flex-start;width: 50%;}#sk-container-id-1 div.sk-parallel-item:only-child::after {width: 0;}#sk-container-id-1 div.sk-dashed-wrapped {border: 1px dashed gray;margin: 0 0.4em 0.5em 0.4em;box-sizing: border-box;padding-bottom: 0.4em;background-color: white;}#sk-container-id-1 div.sk-label label {font-family: monospace;font-weight: bold;display: inline-block;line-height: 1.2em;}#sk-container-id-1 div.sk-label-container {text-align: center;}#sk-container-id-1 div.sk-container {/* jupyter's `normalize.less` sets `[hidden] { display: none; }` but bootstrap.min.css set `[hidden] { display: none !important; }` so we also need the `!important` here to be able to override the default hidden behavior on the sphinx rendered scikit-learn.org. See: https://github.com/scikit-learn/scikit-learn/issues/21755 */display: inline-block !important;position: relative;}#sk-container-id-1 div.sk-text-repr-fallback {display: none;}</style><div id=\"sk-container-id-1\" class=\"sk-top-container\"><div class=\"sk-text-repr-fallback\"><pre>Scaler()</pre><b>In a Jupyter environment, please rerun this cell to show the HTML representation or trust the notebook. <br />On GitHub, the HTML representation is unable to render, please try loading this page with nbviewer.org.</b></div><div class=\"sk-container\" hidden><div class=\"sk-item\"><div class=\"sk-estimator sk-toggleable\"><input class=\"sk-toggleable__control sk-hidden--visually\" id=\"sk-estimator-id-1\" type=\"checkbox\" checked><label for=\"sk-estimator-id-1\" class=\"sk-toggleable__label sk-toggleable__label-arrow\">Scaler</label><div class=\"sk-toggleable__content\"><pre>Scaler()</pre></div></div></div></div></div>"
      ],
      "text/plain": [
       "Scaler()"
      ]
     },
     "execution_count": 18,
     "metadata": {},
     "output_type": "execute_result"
    }
   ],
   "source": [
    "# TEST Scaler class\n",
    "A = np.arange(9).reshape(3, 3)\n",
    "scaler = Scaler()\n",
    "scaler.fit(A)\n"
   ]
  },
  {
   "cell_type": "code",
   "execution_count": 19,
   "metadata": {},
   "outputs": [
    {
     "name": "stdout",
     "output_type": "stream",
     "text": [
      "[[0 1 2]\n",
      " [3 4 5]\n",
      " [6 7 8]]\n",
      "[3.0, 4.0, 5.0]\n",
      "[2.449489742783178, 2.449489742783178, 2.449489742783178]\n",
      "[[-1.22474487 -1.22474487 -1.22474487]\n",
      " [ 0.          0.          0.        ]\n",
      " [ 1.22474487  1.22474487  1.22474487]]\n"
     ]
    }
   ],
   "source": [
    "print(A, scaler.column_mean, scaler.column_std, scaler.transform(A), sep='\\n')"
   ]
  },
  {
   "attachments": {},
   "cell_type": "markdown",
   "metadata": {
    "deletable": false,
    "editable": false,
    "id": "UqCmMJmAFL5J",
    "nbgrader": {
     "cell_type": "markdown",
     "checksum": "3d730bf5bebe05dfc0cd4e31419fb356",
     "grade": false,
     "grade_id": "cell-fc3e9de0b5f5f60f",
     "locked": true,
     "schema_version": 3,
     "solution": false,
     "task": false
    }
   },
   "source": [
    " ### Model training and validation\n",
    "\n",
    "Now, we will train and evaluate the first regression model for diamond price prediction using only the numerical features. We will use **k-nearest neighbors** algorithm to build the model, and mean absolute error metric to evaluate its predictive performance."
   ]
  },
  {
   "cell_type": "code",
   "execution_count": 20,
   "metadata": {
    "deletable": false,
    "editable": false,
    "id": "VTlqz02ohdH6",
    "nbgrader": {
     "cell_type": "code",
     "checksum": "fe3f39e578663e2f61def81b20fb80ae",
     "grade": false,
     "grade_id": "cell-2d220bdb23396161",
     "locked": true,
     "schema_version": 3,
     "solution": false,
     "task": false
    }
   },
   "outputs": [],
   "source": [
    "# define transformations for numerical columns using MeanImputer and Scaler\n",
    "num_transformers_pipe = make_pipeline(\n",
    "    MeanImputer(),\n",
    "    Scaler(),\n",
    ")\n",
    "\n",
    "# defien column transformer (we drop non-numerical features)\n",
    "col_transformer = ColumnTransformer([\n",
    "    (\"num_col_transformer\", num_transformers_pipe, num_cols),\n",
    "], remainder='drop')\n",
    "\n",
    "\n",
    "# define a Pipeline with 2 steps: 1. transform columns; 2. Apply the model\n",
    "model = Pipeline([\n",
    "    (\"col_transformer\", col_transformer),\n",
    "    (\"estimator\", KNeighborsRegressor())\n",
    "]\n",
    ")"
   ]
  },
  {
   "attachments": {},
   "cell_type": "markdown",
   "metadata": {
    "deletable": false,
    "editable": false,
    "id": "FlVc8ZgdxxC2",
    "nbgrader": {
     "cell_type": "markdown",
     "checksum": "b486062b35464039876a8dbee1bd8f24",
     "grade": false,
     "grade_id": "cell-5b4cb3ad09406657",
     "locked": true,
     "schema_version": 3,
     "solution": false,
     "task": false
    }
   },
   "source": [
    "\n",
    "---\n",
    "Here is a function to evaluate performance of a given model both on the train and test sets. The function\n",
    "- takes as input a model (possibly a pipeline), as well as feature matrix and target variable for both train and test sets,\n",
    "- fits the model on the train set,\n",
    "- computes model predictions for train and test sets,\n",
    "- assesses the quality of both predictions with mean absolute error (MAE) metric,\n",
    "- returns train and test MAE scores."
   ]
  },
  {
   "cell_type": "code",
   "execution_count": 21,
   "metadata": {
    "deletable": false,
    "id": "Vj6GGiGlZmyE",
    "nbgrader": {
     "cell_type": "code",
     "checksum": "bb01acc0c41c9aa9ca3e34dc666efd3a",
     "grade": false,
     "grade_id": "cell-3b2863b8ca643ff7",
     "locked": false,
     "schema_version": 3,
     "solution": true,
     "task": false
    }
   },
   "outputs": [],
   "source": [
    "def evaluate_model(model, X_tr, y_tr, X_te, y_te):\n",
    "    model.fit(X_tr, y_tr)\n",
    "    y_pr_tr = model.predict(X_tr)\n",
    "    y_pr_te = model.predict(X_te)\n",
    "    mae_tr = mean_absolute_error(y_tr, y_pr_tr)\n",
    "    mae_te = mean_absolute_error(y_te, y_pr_te)\n",
    "    return mae_tr, mae_te"
   ]
  },
  {
   "attachments": {},
   "cell_type": "markdown",
   "metadata": {
    "deletable": false,
    "editable": false,
    "nbgrader": {
     "cell_type": "markdown",
     "checksum": "b6bd4b78dcc725f4300ca67f8bf08df4",
     "grade": false,
     "grade_id": "cell-6e6bda66a036866a",
     "locked": true,
     "schema_version": 3,
     "solution": false,
     "task": false
    }
   },
   "source": [
    "Evaluation of the model based on numerical features only:"
   ]
  },
  {
   "cell_type": "code",
   "execution_count": 22,
   "metadata": {
    "deletable": false,
    "editable": false,
    "id": "mOGOgRqMzxfq",
    "nbgrader": {
     "cell_type": "code",
     "checksum": "012be6765187e9d1036c8cebfabeb72f",
     "grade": true,
     "grade_id": "cell-681232043cba68a4",
     "locked": true,
     "points": 1,
     "schema_version": 3,
     "solution": false,
     "task": false
    }
   },
   "outputs": [],
   "source": [
    "# TEST evaluate_model function\n",
    "mae_tr, mae_te = evaluate_model(model, X_tr, y_tr, X_te, y_te)"
   ]
  },
  {
   "cell_type": "code",
   "execution_count": 23,
   "metadata": {
    "deletable": false,
    "editable": false,
    "id": "GytsZtgCz3nc",
    "nbgrader": {
     "cell_type": "code",
     "checksum": "1a8ef7952185183b555c6a4f911413ee",
     "grade": false,
     "grade_id": "cell-1aa7dd77ca19a40c",
     "locked": true,
     "schema_version": 3,
     "solution": false,
     "task": false
    }
   },
   "outputs": [
    {
     "name": "stdout",
     "output_type": "stream",
     "text": [
      "Train MAE = 684.53\n",
      "Test MAE = 833.04\n"
     ]
    }
   ],
   "source": [
    "models_scores = {}\n",
    "models_scores[\"num only\"] = {\"train\" : mae_tr, \"test\" : mae_te}\n",
    "print(\"Train MAE = %.2f\" % mae_tr)\n",
    "print(\"Test MAE = %.2f\" % mae_te)"
   ]
  },
  {
   "attachments": {},
   "cell_type": "markdown",
   "metadata": {
    "deletable": false,
    "editable": false,
    "id": "bNxGoLt_9ufB",
    "nbgrader": {
     "cell_type": "markdown",
     "checksum": "35d8e75229e5754c06de61890e860286",
     "grade": false,
     "grade_id": "cell-c61ca573b3de8046",
     "locked": true,
     "schema_version": 3,
     "solution": false,
     "task": false
    }
   },
   "source": [
    "### Categorical features\n",
    "\n",
    "Most of the machine learning models cannot work with categorical features directly in their original form. However, there are several ways to represent them in an alternative form (encode). We will consider and compare two options for encoding categorical features - **one-hot encoding** and **mean target encoding**.\n",
    "\n",
    "Ohe-hot-encoding is one of the most popular and straight-forward ways. In this case each categorical feature is replaced by a set of binary features for each category. "
   ]
  },
  {
   "attachments": {},
   "cell_type": "markdown",
   "metadata": {
    "deletable": false,
    "editable": false,
    "id": "XsB7Qg9xDnZ8",
    "nbgrader": {
     "cell_type": "markdown",
     "checksum": "1f964010dcfb1a5ec186d1a5c2a11e78",
     "grade": false,
     "grade_id": "cell-1bb32c3905c638c1",
     "locked": true,
     "schema_version": 3,
     "solution": false,
     "task": false
    }
   },
   "source": [
    "`Sklearn` has ready-to-use implementation of OneHotEncoder transformer (as well as many other transformers). \n",
    "\n"
   ]
  },
  {
   "cell_type": "code",
   "execution_count": 24,
   "metadata": {
    "colab": {
     "base_uri": "https://localhost:8080/",
     "height": 407
    },
    "deletable": false,
    "editable": false,
    "executionInfo": {
     "elapsed": 660,
     "status": "ok",
     "timestamp": 1607627239273,
     "user": {
      "displayName": "Марина Поминова",
      "photoUrl": "",
      "userId": "04196186528550871600"
     },
     "user_tz": -180
    },
    "id": "wa_lzhVZ19a8",
    "nbgrader": {
     "cell_type": "code",
     "checksum": "b4bbe032c152ccca79296cecf2253b68",
     "grade": false,
     "grade_id": "cell-32bbc63dcf52453c",
     "locked": true,
     "schema_version": 3,
     "solution": false,
     "task": false
    },
    "outputId": "911c3e26-a674-42e3-fdc3-67bece89697b"
   },
   "outputs": [
    {
     "name": "stdout",
     "output_type": "stream",
     "text": [
      "Categorical variable before one-hot encoding:\n"
     ]
    },
    {
     "data": {
      "text/html": [
       "<div>\n",
       "<style scoped>\n",
       "    .dataframe tbody tr th:only-of-type {\n",
       "        vertical-align: middle;\n",
       "    }\n",
       "\n",
       "    .dataframe tbody tr th {\n",
       "        vertical-align: top;\n",
       "    }\n",
       "\n",
       "    .dataframe thead th {\n",
       "        text-align: right;\n",
       "    }\n",
       "</style>\n",
       "<table border=\"1\" class=\"dataframe\">\n",
       "  <thead>\n",
       "    <tr style=\"text-align: right;\">\n",
       "      <th></th>\n",
       "      <th>cut</th>\n",
       "    </tr>\n",
       "  </thead>\n",
       "  <tbody>\n",
       "    <tr>\n",
       "      <th>30084</th>\n",
       "      <td>Ideal</td>\n",
       "    </tr>\n",
       "    <tr>\n",
       "      <th>21865</th>\n",
       "      <td>Premium</td>\n",
       "    </tr>\n",
       "    <tr>\n",
       "      <th>3762</th>\n",
       "      <td>Ideal</td>\n",
       "    </tr>\n",
       "    <tr>\n",
       "      <th>21263</th>\n",
       "      <td>Ideal</td>\n",
       "    </tr>\n",
       "    <tr>\n",
       "      <th>15461</th>\n",
       "      <td>Ideal</td>\n",
       "    </tr>\n",
       "  </tbody>\n",
       "</table>\n",
       "</div>"
      ],
      "text/plain": [
       "           cut\n",
       "30084    Ideal\n",
       "21865  Premium\n",
       "3762     Ideal\n",
       "21263    Ideal\n",
       "15461    Ideal"
      ]
     },
     "metadata": {},
     "output_type": "display_data"
    },
    {
     "name": "stdout",
     "output_type": "stream",
     "text": [
      "Categorical variable after one-hot encoding:\n"
     ]
    },
    {
     "name": "stderr",
     "output_type": "stream",
     "text": [
      "/home/vyacheslav/miniconda3/envs/machine_learning/lib/python3.10/site-packages/sklearn/preprocessing/_encoders.py:868: FutureWarning: `sparse` was renamed to `sparse_output` in version 1.2 and will be removed in 1.4. `sparse_output` is ignored unless you leave `sparse` to its default value.\n",
      "  warnings.warn(\n",
      "/home/vyacheslav/miniconda3/envs/machine_learning/lib/python3.10/site-packages/sklearn/preprocessing/_encoders.py:868: FutureWarning: `sparse` was renamed to `sparse_output` in version 1.2 and will be removed in 1.4. `sparse_output` is ignored unless you leave `sparse` to its default value.\n",
      "  warnings.warn(\n"
     ]
    },
    {
     "data": {
      "text/html": [
       "<div>\n",
       "<style scoped>\n",
       "    .dataframe tbody tr th:only-of-type {\n",
       "        vertical-align: middle;\n",
       "    }\n",
       "\n",
       "    .dataframe tbody tr th {\n",
       "        vertical-align: top;\n",
       "    }\n",
       "\n",
       "    .dataframe thead tr th {\n",
       "        text-align: left;\n",
       "    }\n",
       "</style>\n",
       "<table border=\"1\" class=\"dataframe\">\n",
       "  <thead>\n",
       "    <tr>\n",
       "      <th></th>\n",
       "      <th>Fair</th>\n",
       "      <th>Good</th>\n",
       "      <th>Ideal</th>\n",
       "      <th>Premium</th>\n",
       "      <th>Unknown</th>\n",
       "      <th>Very Good</th>\n",
       "    </tr>\n",
       "  </thead>\n",
       "  <tbody>\n",
       "    <tr>\n",
       "      <th>30084</th>\n",
       "      <td>0.0</td>\n",
       "      <td>0.0</td>\n",
       "      <td>1.0</td>\n",
       "      <td>0.0</td>\n",
       "      <td>0.0</td>\n",
       "      <td>0.0</td>\n",
       "    </tr>\n",
       "    <tr>\n",
       "      <th>21865</th>\n",
       "      <td>0.0</td>\n",
       "      <td>0.0</td>\n",
       "      <td>0.0</td>\n",
       "      <td>1.0</td>\n",
       "      <td>0.0</td>\n",
       "      <td>0.0</td>\n",
       "    </tr>\n",
       "    <tr>\n",
       "      <th>3762</th>\n",
       "      <td>0.0</td>\n",
       "      <td>0.0</td>\n",
       "      <td>1.0</td>\n",
       "      <td>0.0</td>\n",
       "      <td>0.0</td>\n",
       "      <td>0.0</td>\n",
       "    </tr>\n",
       "    <tr>\n",
       "      <th>21263</th>\n",
       "      <td>0.0</td>\n",
       "      <td>0.0</td>\n",
       "      <td>1.0</td>\n",
       "      <td>0.0</td>\n",
       "      <td>0.0</td>\n",
       "      <td>0.0</td>\n",
       "    </tr>\n",
       "    <tr>\n",
       "      <th>15461</th>\n",
       "      <td>0.0</td>\n",
       "      <td>0.0</td>\n",
       "      <td>1.0</td>\n",
       "      <td>0.0</td>\n",
       "      <td>0.0</td>\n",
       "      <td>0.0</td>\n",
       "    </tr>\n",
       "  </tbody>\n",
       "</table>\n",
       "</div>"
      ],
      "text/plain": [
       "      Fair Good Ideal Premium Unknown Very Good\n",
       "30084  0.0  0.0   1.0     0.0     0.0       0.0\n",
       "21865  0.0  0.0   0.0     1.0     0.0       0.0\n",
       "3762   0.0  0.0   1.0     0.0     0.0       0.0\n",
       "21263  0.0  0.0   1.0     0.0     0.0       0.0\n",
       "15461  0.0  0.0   1.0     0.0     0.0       0.0"
      ]
     },
     "metadata": {},
     "output_type": "display_data"
    }
   ],
   "source": [
    "print(\"Categorical variable before one-hot encoding:\")\n",
    "display(X_tr[[\"cut\"]].head())\n",
    "\n",
    "print(\"Categorical variable after one-hot encoding:\")\n",
    "ohenc = OneHotEncoder(sparse=False)\n",
    "ohenc.fit_transform(X_tr[[\"cut\"]])\n",
    "display(pd.DataFrame(ohenc.fit_transform(X_tr[[\"cut\"]]), \n",
    "                     index=X_tr.index, columns=ohenc.categories_).head())"
   ]
  },
  {
   "attachments": {},
   "cell_type": "markdown",
   "metadata": {
    "deletable": false,
    "editable": false,
    "nbgrader": {
     "cell_type": "markdown",
     "checksum": "3f02ca58e3db8f6da1476fa38d717793",
     "grade": false,
     "grade_id": "cell-56fa2e7770c46be2",
     "locked": true,
     "schema_version": 3,
     "solution": false,
     "task": false
    }
   },
   "source": [
    "\n",
    "---\n",
    "Let's create a 2-step pipeline:\n",
    "\n",
    "1. Column Transformer, which\n",
    "    - Apply one-hot encoding to categorical feature\n",
    "    - Apply `num_transformers_pipe` (defined above) to numerical feature\n",
    "2. A regression model"
   ]
  },
  {
   "cell_type": "code",
   "execution_count": 25,
   "metadata": {
    "deletable": false,
    "id": "MDnEd4SOh85b",
    "nbgrader": {
     "cell_type": "code",
     "checksum": "fdb577c2b8f72cc6498ab57944926e03",
     "grade": false,
     "grade_id": "cell-e0f59c3b9570aa2f",
     "locked": false,
     "schema_version": 3,
     "solution": true,
     "task": false
    }
   },
   "outputs": [],
   "source": [
    "col_transformer = ColumnTransformer([\n",
    "    (\"cat_one_hot\",  OneHotEncoder(handle_unknown=\"ignore\"), cat_cols),\n",
    "    (\"num_col_transformer\", num_transformers_pipe, num_cols)\n",
    "], remainder='drop')\n",
    "\n",
    "\n",
    "model = Pipeline(steps = [\n",
    "    (\"col_transformer\", col_transformer),\n",
    "    (\"estimator\", KNeighborsRegressor())\n",
    "])"
   ]
  },
  {
   "cell_type": "code",
   "execution_count": 26,
   "metadata": {
    "colab": {
     "base_uri": "https://localhost:8080/"
    },
    "deletable": false,
    "editable": false,
    "executionInfo": {
     "elapsed": 15584,
     "status": "ok",
     "timestamp": 1607627263188,
     "user": {
      "displayName": "Марина Поминова",
      "photoUrl": "",
      "userId": "04196186528550871600"
     },
     "user_tz": -180
    },
    "id": "rqI9PU_Qh85b",
    "nbgrader": {
     "cell_type": "code",
     "checksum": "450b0d13c9541c5a7cc6b0c9c0900c93",
     "grade": true,
     "grade_id": "cell-936346eac885f257",
     "locked": true,
     "points": 1,
     "schema_version": 3,
     "solution": false,
     "task": false
    },
    "outputId": "f5333293-db33-4e27-8eed-dd996982ae93"
   },
   "outputs": [
    {
     "name": "stdout",
     "output_type": "stream",
     "text": [
      "Train MAE = 428.27\n",
      "Test MAE = 526.21\n"
     ]
    }
   ],
   "source": [
    "mae_tr, mae_te = evaluate_model(model, X_tr, y_tr, X_te, y_te)\n",
    "models_scores[\"num & cat (one-hot)\"] = {\"train\" : mae_tr, \"test\" : mae_te}\n",
    "print(\"Train MAE = %.2f\" % mae_tr)\n",
    "print(\"Test MAE = %.2f\" % mae_te)"
   ]
  },
  {
   "attachments": {},
   "cell_type": "markdown",
   "metadata": {
    "deletable": false,
    "editable": false,
    "id": "TZt6bhT-X9en",
    "nbgrader": {
     "cell_type": "markdown",
     "checksum": "344718b63194e077f3455e10229ed0cc",
     "grade": false,
     "grade_id": "cell-105edfbad47a5ceb",
     "locked": true,
     "schema_version": 3,
     "solution": false,
     "task": false
    }
   },
   "source": [
    "### Mean target encoding"
   ]
  },
  {
   "attachments": {},
   "cell_type": "markdown",
   "metadata": {
    "deletable": false,
    "editable": false,
    "id": "eTWuCDxtdVH1",
    "nbgrader": {
     "cell_type": "markdown",
     "checksum": "e7df3599563cd6efec5b6bc680da50e8",
     "grade": false,
     "grade_id": "cell-18794dd480361600",
     "locked": true,
     "schema_version": 3,
     "solution": false,
     "task": false
    }
   },
   "source": [
    "Another way to encode categorical variables in **mean target encoding**. The idea behind the approach is that each of the categories is replaced by the average value of the target variable for objects from that category. Thus, the categorical feature can be encoded with a single numerical vector."
   ]
  },
  {
   "attachments": {},
   "cell_type": "markdown",
   "metadata": {
    "deletable": false,
    "editable": false,
    "id": "hmfJGLDsLzny",
    "nbgrader": {
     "cell_type": "markdown",
     "checksum": "6c52b89d67366da0f2ae1f8550234fa8",
     "grade": false,
     "grade_id": "cell-7b00f3bfdc755e37",
     "locked": true,
     "schema_version": 3,
     "solution": false,
     "task": false
    }
   },
   "source": [
    "\n",
    "---\n",
    "Let's implement mean target encoding transformer. "
   ]
  },
  {
   "cell_type": "code",
   "execution_count": 27,
   "metadata": {
    "deletable": false,
    "id": "gW1XwoL3O8zu",
    "nbgrader": {
     "cell_type": "code",
     "checksum": "4006b479674a709c80933625414fbd80",
     "grade": false,
     "grade_id": "cell-9ca2a5792628cf4a",
     "locked": false,
     "schema_version": 3,
     "solution": true,
     "task": false
    }
   },
   "outputs": [],
   "source": [
    "from sklearn.base import TransformerMixin, BaseEstimator\n",
    "\n",
    "\n",
    "class MeanTargetEncoder(BaseEstimator, TransformerMixin):\n",
    "    \"\"\"\n",
    "    Encode categorical features as a numerical vector \n",
    "    of mean target values for each category.\n",
    "\n",
    "    Parameters\n",
    "    ----------\n",
    "    noise_level : float, default=0.01\n",
    "        The variance of Gaussian noise to be added to the target variable \n",
    "        before computing the mean. Larger values lead to less accurate \n",
    "        mean values for categories but prevent overfitting.\n",
    "    \"\"\"\n",
    "\n",
    "    def __init__(self, \n",
    "                 noise_level=0.01):\n",
    "        self.noise_level = noise_level\n",
    "    \n",
    "    def fit(self, X, y):\n",
    "        \"\"\"\"\n",
    "        For each feature in the feature matrix, \n",
    "        compute and save mean target value for each category. \n",
    "        \n",
    "        All the values are stored in the dictionary `self.column_category_mean`\n",
    "        Keys - column names. Values - dictionary with unique categories and corresponding means\n",
    "        \n",
    "        Example for 2 categorical features: `district`, `city_type`  \n",
    "        self.column_category_mean = {\n",
    "                                    'distric': {'central': 2000, \n",
    "                                                 'south': 1000, \n",
    "                                                 'north': 1500},\n",
    "                                    'city_type': {'capital': 2100,\n",
    "                                                  'small city': 1700,\n",
    "                                                  'village': 1200}\n",
    "                                      }\n",
    "\n",
    "        Parameters\n",
    "        ----------\n",
    "        X : pd.DataFrame or numpy.ndarray of shape (n_samples, n_features)\n",
    "            Feature matrix.\n",
    "        y : pd.Series or numpy.ndarray of shape (n_samples,) (default : None)\n",
    "            Target values.\n",
    "        Returns\n",
    "        -------\n",
    "        self : returns an instance of self.\n",
    "        \"\"\"\n",
    "        \n",
    "        # get target and add noise to it\n",
    "        if type(y) is not np.ndarray:\n",
    "            target = y.values.copy()\n",
    "        else:\n",
    "            target = y.copy()\n",
    "        if self.noise_level > 0:\n",
    "            noise = np.random.randn(target.size) * (self.noise_level * target.std())\n",
    "            target = target + noise\n",
    "\n",
    "\n",
    "        self.column_category_mean = {}\n",
    "        \n",
    "        for i in range(X.shape[1]):\n",
    "            # get column name (`col`) and the values (`X_i`)\n",
    "            if type(X) is not np.ndarray:\n",
    "                col = X.columns[i]\n",
    "                X_i = X[col].values\n",
    "            else:\n",
    "                col = i\n",
    "                X_i = X[:, col]\n",
    "                \n",
    "            df = pd.DataFrame({'feature': X_i, col: target})\n",
    "            self.column_category_mean.update(df.groupby('feature').mean().to_dict())\n",
    "    \n",
    "        return self\n",
    "    \n",
    "    def transform(self, X):\n",
    "        \"\"\"\n",
    "        For each feature in the feature matrix,\n",
    "        replaces each category with a corresponding precomuted \n",
    "        mean target value.\n",
    "\n",
    "        Parameters\n",
    "        ----------\n",
    "        X : pd.DataFrame or numpy.ndarray of shape (n_samples, n_features)\n",
    "            Feature matrix.\n",
    "        \n",
    "        Returns\n",
    "        -------\n",
    "        X_transformed : array-like of shape (n_samples, n_features)\n",
    "            Transformed feature matrix. \n",
    "        \"\"\"\n",
    "\n",
    "        X_transformed = []\n",
    "        for col in self.column_category_mean:\n",
    "            # extract column values \n",
    "            if type(X) is not np.ndarray:\n",
    "                X_i = X[col].values\n",
    "            else:\n",
    "                X_i = X[:, col]\n",
    "                \n",
    "            # encode categories of X_i using `self.column_category_mean`. And append the result to `X_transformed`\n",
    "            ser = pd.Series(X_i)\n",
    "            ser = ser.map(self.column_category_mean[col])\n",
    "            X_transformed.append(ser.to_numpy())\n",
    "                \n",
    "        X_transformed = np.column_stack(X_transformed)\n",
    "        return X_transformed"
   ]
  },
  {
   "cell_type": "code",
   "execution_count": 28,
   "metadata": {
    "deletable": false,
    "editable": false,
    "id": "fOrYsWbrnevP",
    "nbgrader": {
     "cell_type": "code",
     "checksum": "44a7ccbbaa57e0221e2feed1d21b8945",
     "grade": true,
     "grade_id": "cell-5b7539f99c11a112",
     "locked": true,
     "points": 2,
     "schema_version": 3,
     "solution": false,
     "task": false
    }
   },
   "outputs": [
    {
     "data": {
      "text/html": [
       "<div>\n",
       "<style scoped>\n",
       "    .dataframe tbody tr th:only-of-type {\n",
       "        vertical-align: middle;\n",
       "    }\n",
       "\n",
       "    .dataframe tbody tr th {\n",
       "        vertical-align: top;\n",
       "    }\n",
       "\n",
       "    .dataframe thead th {\n",
       "        text-align: right;\n",
       "    }\n",
       "</style>\n",
       "<table border=\"1\" class=\"dataframe\">\n",
       "  <thead>\n",
       "    <tr style=\"text-align: right;\">\n",
       "      <th></th>\n",
       "      <th>district</th>\n",
       "      <th>city_type</th>\n",
       "    </tr>\n",
       "  </thead>\n",
       "  <tbody>\n",
       "    <tr>\n",
       "      <th>0</th>\n",
       "      <td>2000.0</td>\n",
       "      <td>1500.000000</td>\n",
       "    </tr>\n",
       "    <tr>\n",
       "      <th>1</th>\n",
       "      <td>2300.0</td>\n",
       "      <td>1500.000000</td>\n",
       "    </tr>\n",
       "    <tr>\n",
       "      <th>2</th>\n",
       "      <td>2000.0</td>\n",
       "      <td>1966.666667</td>\n",
       "    </tr>\n",
       "    <tr>\n",
       "      <th>3</th>\n",
       "      <td>2300.0</td>\n",
       "      <td>2450.000000</td>\n",
       "    </tr>\n",
       "    <tr>\n",
       "      <th>4</th>\n",
       "      <td>1450.0</td>\n",
       "      <td>1966.666667</td>\n",
       "    </tr>\n",
       "    <tr>\n",
       "      <th>5</th>\n",
       "      <td>1450.0</td>\n",
       "      <td>1966.666667</td>\n",
       "    </tr>\n",
       "    <tr>\n",
       "      <th>6</th>\n",
       "      <td>2300.0</td>\n",
       "      <td>2450.000000</td>\n",
       "    </tr>\n",
       "  </tbody>\n",
       "</table>\n",
       "</div>"
      ],
      "text/plain": [
       "   district    city_type\n",
       "0    2000.0  1500.000000\n",
       "1    2300.0  1500.000000\n",
       "2    2000.0  1966.666667\n",
       "3    2300.0  2450.000000\n",
       "4    1450.0  1966.666667\n",
       "5    1450.0  1966.666667\n",
       "6    2300.0  2450.000000"
      ]
     },
     "metadata": {},
     "output_type": "display_data"
    }
   ],
   "source": [
    "# TEST MeanTargetEncoder\n",
    "\n",
    "# toy dataset\n",
    "dist = ['south', 'central', 'south','central','north','north','central']\n",
    "city = ['small city', 'small city', 'capital', 'village', 'capital', 'capital', 'village']\n",
    "price = np.array([1000, 2000, 3000, 2800, 1200, 1700, 2100])\n",
    "X = pd.DataFrame({'district':dist, 'city_type': city})\n",
    "\n",
    "# mean target encoder\n",
    "enc = MeanTargetEncoder(noise_level=0.)\n",
    "enc.fit(X, price)\n",
    "X_encoded = pd.DataFrame(enc.transform(X), columns = X.columns)\n",
    "display(X_encoded)"
   ]
  },
  {
   "cell_type": "code",
   "execution_count": 29,
   "metadata": {
    "deletable": false,
    "editable": false,
    "id": "PHJ_QB9MOLSJ",
    "nbgrader": {
     "cell_type": "code",
     "checksum": "e33c68220a0d820cad19b745468ea6de",
     "grade": false,
     "grade_id": "cell-27135068af75cb75",
     "locked": true,
     "schema_version": 3,
     "solution": false,
     "task": false
    }
   },
   "outputs": [],
   "source": [
    "# use Mean Target encoder instead of OHE\n",
    "cat_mean_target_enc = make_pipeline(\n",
    "    MeanTargetEncoder(noise_level=0.01),\n",
    "    StandardScaler(),\n",
    ")\n",
    "\n",
    "col_transformer = ColumnTransformer([\n",
    "    (\"num_col_transformer\", num_transformers_pipe, num_cols),\n",
    "    (\"cat_mean_target\", cat_mean_target_enc, cat_cols),\n",
    "], remainder='drop')\n",
    "\n",
    "\n",
    "model = Pipeline([\n",
    "    (\"col_transformer\", col_transformer),\n",
    "    (\"estimator\", KNeighborsRegressor())\n",
    "])"
   ]
  },
  {
   "cell_type": "code",
   "execution_count": 30,
   "metadata": {
    "colab": {
     "base_uri": "https://localhost:8080/"
    },
    "deletable": false,
    "editable": false,
    "executionInfo": {
     "elapsed": 3694,
     "status": "ok",
     "timestamp": 1607627346071,
     "user": {
      "displayName": "Марина Поминова",
      "photoUrl": "",
      "userId": "04196186528550871600"
     },
     "user_tz": -180
    },
    "id": "XY944ZsuOLUr",
    "nbgrader": {
     "cell_type": "code",
     "checksum": "5b9d4f2a2234defe457bf33d188b5c1d",
     "grade": false,
     "grade_id": "cell-a2e751cb5a8a5dfd",
     "locked": true,
     "schema_version": 3,
     "solution": false,
     "task": false
    },
    "outputId": "b3e38b9c-44fb-4d19-9161-26935507cd20"
   },
   "outputs": [
    {
     "name": "stdout",
     "output_type": "stream",
     "text": [
      "Train MAE = 440.79\n",
      "Test MAE = 535.68\n"
     ]
    }
   ],
   "source": [
    "mae_tr, mae_te = evaluate_model(model, X_tr, y_tr, X_te, y_te)\n",
    "models_scores[\"num & cat (mean target)\"] = {\"train\" : mae_tr, \"test\" : mae_te}\n",
    "print(\"Train MAE = %.2f\" % mae_tr)\n",
    "print(\"Test MAE = %.2f\" % mae_te)"
   ]
  },
  {
   "attachments": {},
   "cell_type": "markdown",
   "metadata": {
    "id": "51bv9frfj8r7"
   },
   "source": [
    "### Ordinal categorical variables\n",
    "\n",
    "In some cases, categorical variables may have ordinal values. For example, in our data, the attribute \"cut\" has values Fair, Good, Very Good, Premium, and Ideal. We can assume that these values are \"ordered\" and encode them with the numbers 1, 2, 3, 4 and 5 respectively. Thus, 1 means \"worst\" value (Fair) and 5 means \"best\" (Ideal) and 0 can be used to encode \"Unknown\" (missing) values.\n",
    "\n",
    "This can provide additional information to the model and improve quality, especially for linear models."
   ]
  },
  {
   "cell_type": "code",
   "execution_count": 31,
   "metadata": {
    "colab": {
     "base_uri": "https://localhost:8080/"
    },
    "deletable": false,
    "editable": false,
    "executionInfo": {
     "elapsed": 745,
     "status": "ok",
     "timestamp": 1607628029759,
     "user": {
      "displayName": "Марина Поминова",
      "photoUrl": "",
      "userId": "04196186528550871600"
     },
     "user_tz": -180
    },
    "id": "oga5ppKgUXbN",
    "nbgrader": {
     "cell_type": "code",
     "checksum": "2e327db3e284a6930209a8a2ea2bea3c",
     "grade": false,
     "grade_id": "cell-64315b20a5d33b2b",
     "locked": true,
     "schema_version": 3,
     "solution": false,
     "task": false
    },
    "outputId": "1952b71d-dec7-4760-9279-c2d137e2d2e8"
   },
   "outputs": [
    {
     "name": "stdout",
     "output_type": "stream",
     "text": [
      "['color', 'clarity'] ['cut']\n"
     ]
    }
   ],
   "source": [
    "# separate columns with ordinal features from other categorical features\n",
    "ord_cols = [\"cut\"]\n",
    "cat_cols = list(set(cat_cols) - set(ord_cols))\n",
    "print(cat_cols, ord_cols)"
   ]
  },
  {
   "cell_type": "code",
   "execution_count": 32,
   "metadata": {
    "deletable": false,
    "editable": false,
    "id": "N6CHoFTwTw5Y",
    "nbgrader": {
     "cell_type": "code",
     "checksum": "cee4612c68dc2b8790e6715fcbb2d9ee",
     "grade": false,
     "grade_id": "cell-cc95e138609d2b62",
     "locked": true,
     "schema_version": 3,
     "solution": false,
     "task": false
    }
   },
   "outputs": [],
   "source": [
    "# create lists of categories for each ordinal feature\n",
    "# (categories should be ordered from minimal to maximal)\n",
    "ord_col_categories = [[\n",
    "    \"Unknown\",\n",
    "    \"Fair\",\n",
    "    \"Good\",\n",
    "    \"Very Good\",\n",
    "    \"Premium\",\n",
    "    \"Ideal\",          \n",
    "]]"
   ]
  },
  {
   "cell_type": "code",
   "execution_count": 33,
   "metadata": {
    "deletable": false,
    "editable": false,
    "id": "D91_HQC-VVHv",
    "nbgrader": {
     "cell_type": "code",
     "checksum": "caf7e2dd160b65b3970f58f95ebfde5e",
     "grade": false,
     "grade_id": "cell-2e276550a6ac19e2",
     "locked": true,
     "schema_version": 3,
     "solution": false,
     "task": false
    }
   },
   "outputs": [],
   "source": [
    "# define ordinal encoder\n",
    "ord_enc = make_pipeline(\n",
    "    OrdinalEncoder(categories=ord_col_categories),\n",
    "    StandardScaler(),\n",
    ")\n",
    "\n",
    "# combine all column transforms\n",
    "col_transformer = ColumnTransformer(transformers = [\n",
    "    (\"num_col_transformer\", num_transformers_pipe, num_cols),\n",
    "    (\"cat_one_hot\",  OneHotEncoder(handle_unknown=\"ignore\"), cat_cols),\n",
    "    (\"ord_enc\", ord_enc, ord_cols)\n",
    "], remainder='drop')\n",
    "\n",
    "\n",
    "model = Pipeline(steps = [\n",
    "    (\"col_transformer\", col_transformer),\n",
    "    (\"estimator\", KNeighborsRegressor())\n",
    "])"
   ]
  },
  {
   "cell_type": "code",
   "execution_count": 34,
   "metadata": {
    "colab": {
     "base_uri": "https://localhost:8080/"
    },
    "deletable": false,
    "editable": false,
    "executionInfo": {
     "elapsed": 12131,
     "status": "ok",
     "timestamp": 1607628367275,
     "user": {
      "displayName": "Марина Поминова",
      "photoUrl": "",
      "userId": "04196186528550871600"
     },
     "user_tz": -180
    },
    "id": "ONau_qTiV03g",
    "nbgrader": {
     "cell_type": "code",
     "checksum": "f5d19b26cb3f97c70a824ef8a9f85dd5",
     "grade": false,
     "grade_id": "cell-6f46b5edf13966c8",
     "locked": true,
     "schema_version": 3,
     "solution": false,
     "task": false
    },
    "outputId": "e304db04-6a23-416f-d244-43a95683ef0a"
   },
   "outputs": [
    {
     "name": "stdout",
     "output_type": "stream",
     "text": [
      "Train MAE = 410.57\n",
      "Test MAE = 505.19\n"
     ]
    }
   ],
   "source": [
    "# evaluate model performance\n",
    "mae_tr, mae_te = evaluate_model(model, X_tr, y_tr, X_te, y_te)\n",
    "models_scores[\"num, cat & ord\"] = {\"train\" : mae_tr, \"test\" : mae_te}\n",
    "print(\"Train MAE = %.2f\" % mae_tr)\n",
    "print(\"Test MAE = %.2f\" % mae_te)"
   ]
  },
  {
   "attachments": {},
   "cell_type": "markdown",
   "metadata": {
    "deletable": false,
    "editable": false,
    "id": "YfKK-MVBmVcw",
    "nbgrader": {
     "cell_type": "markdown",
     "checksum": "6d6f1c9b7e1d5783276e387ff66d6b8f",
     "grade": false,
     "grade_id": "cell-4c39ac9e347cba58",
     "locked": true,
     "schema_version": 3,
     "solution": false,
     "task": false
    }
   },
   "source": [
    "### Feature engineering\n",
    "\n",
    "We can also use the original features to derive new, more complex or informative features on their basis. \n",
    "\n",
    "For example, in our data we have three features \"x\", \"y\" and \"z\" and can assume that they correspond to measurements of the diamond size along three axes. In this case, product of these three features, that is, the approximate volume, can also be a useful feature for predicting the value of a diamond."
   ]
  },
  {
   "cell_type": "code",
   "execution_count": 35,
   "metadata": {
    "colab": {
     "base_uri": "https://localhost:8080/",
     "height": 195
    },
    "deletable": false,
    "editable": false,
    "executionInfo": {
     "elapsed": 665,
     "status": "ok",
     "timestamp": 1607628375659,
     "user": {
      "displayName": "Марина Поминова",
      "photoUrl": "",
      "userId": "04196186528550871600"
     },
     "user_tz": -180
    },
    "id": "Rf469JT_WkBT",
    "nbgrader": {
     "cell_type": "code",
     "checksum": "09ab8377a5080512c8166b45c49eea79",
     "grade": false,
     "grade_id": "cell-f832e432b56fb3b4",
     "locked": true,
     "schema_version": 3,
     "solution": false,
     "task": false
    },
    "outputId": "15659c24-9a68-4f85-f251-9874b35c9d44"
   },
   "outputs": [
    {
     "data": {
      "text/html": [
       "<div>\n",
       "<style scoped>\n",
       "    .dataframe tbody tr th:only-of-type {\n",
       "        vertical-align: middle;\n",
       "    }\n",
       "\n",
       "    .dataframe tbody tr th {\n",
       "        vertical-align: top;\n",
       "    }\n",
       "\n",
       "    .dataframe thead th {\n",
       "        text-align: right;\n",
       "    }\n",
       "</style>\n",
       "<table border=\"1\" class=\"dataframe\">\n",
       "  <thead>\n",
       "    <tr style=\"text-align: right;\">\n",
       "      <th></th>\n",
       "      <th>carat</th>\n",
       "      <th>cut</th>\n",
       "      <th>color</th>\n",
       "      <th>clarity</th>\n",
       "      <th>depth</th>\n",
       "      <th>table</th>\n",
       "      <th>x</th>\n",
       "      <th>y</th>\n",
       "      <th>z</th>\n",
       "    </tr>\n",
       "  </thead>\n",
       "  <tbody>\n",
       "    <tr>\n",
       "      <th>30084</th>\n",
       "      <td>0.32</td>\n",
       "      <td>Ideal</td>\n",
       "      <td>I</td>\n",
       "      <td>VVS2</td>\n",
       "      <td>NaN</td>\n",
       "      <td>56.0</td>\n",
       "      <td>4.42</td>\n",
       "      <td>4.40</td>\n",
       "      <td>2.71</td>\n",
       "    </tr>\n",
       "    <tr>\n",
       "      <th>21865</th>\n",
       "      <td>1.54</td>\n",
       "      <td>Premium</td>\n",
       "      <td>F</td>\n",
       "      <td>SI1</td>\n",
       "      <td>62.8</td>\n",
       "      <td>58.0</td>\n",
       "      <td>7.35</td>\n",
       "      <td>7.32</td>\n",
       "      <td>4.61</td>\n",
       "    </tr>\n",
       "    <tr>\n",
       "      <th>3762</th>\n",
       "      <td>0.71</td>\n",
       "      <td>Ideal</td>\n",
       "      <td>F</td>\n",
       "      <td>VS1</td>\n",
       "      <td>62.1</td>\n",
       "      <td>NaN</td>\n",
       "      <td>5.69</td>\n",
       "      <td>5.75</td>\n",
       "      <td>3.55</td>\n",
       "    </tr>\n",
       "    <tr>\n",
       "      <th>21263</th>\n",
       "      <td>1.03</td>\n",
       "      <td>Ideal</td>\n",
       "      <td>F</td>\n",
       "      <td>VVS2</td>\n",
       "      <td>62.0</td>\n",
       "      <td>56.0</td>\n",
       "      <td>6.48</td>\n",
       "      <td>6.45</td>\n",
       "      <td>4.01</td>\n",
       "    </tr>\n",
       "    <tr>\n",
       "      <th>15461</th>\n",
       "      <td>1.33</td>\n",
       "      <td>Ideal</td>\n",
       "      <td>J</td>\n",
       "      <td>Unknown</td>\n",
       "      <td>62.4</td>\n",
       "      <td>55.0</td>\n",
       "      <td>7.02</td>\n",
       "      <td>7.05</td>\n",
       "      <td>4.39</td>\n",
       "    </tr>\n",
       "  </tbody>\n",
       "</table>\n",
       "</div>"
      ],
      "text/plain": [
       "       carat      cut color  clarity  depth  table     x     y     z\n",
       "30084   0.32    Ideal     I     VVS2    NaN   56.0  4.42  4.40  2.71\n",
       "21865   1.54  Premium     F      SI1   62.8   58.0  7.35  7.32  4.61\n",
       "3762    0.71    Ideal     F      VS1   62.1    NaN  5.69  5.75  3.55\n",
       "21263   1.03    Ideal     F     VVS2   62.0   56.0  6.48  6.45  4.01\n",
       "15461   1.33    Ideal     J  Unknown   62.4   55.0  7.02  7.05  4.39"
      ]
     },
     "execution_count": 35,
     "metadata": {},
     "output_type": "execute_result"
    }
   ],
   "source": [
    "X_tr.head()"
   ]
  },
  {
   "attachments": {},
   "cell_type": "markdown",
   "metadata": {
    "deletable": false,
    "editable": false,
    "nbgrader": {
     "cell_type": "markdown",
     "checksum": "1a7f6caa8f8bb7b4f035e1300e669318",
     "grade": false,
     "grade_id": "cell-db8f89c8a7b29fa3",
     "locked": true,
     "schema_version": 3,
     "solution": false,
     "task": false
    }
   },
   "source": [
    "\n",
    "---\n",
    "Let's add `volume` feature as a product of `x`, `y`, `z` features (to both train and test datasets)"
   ]
  },
  {
   "cell_type": "code",
   "execution_count": 36,
   "metadata": {
    "colab": {
     "base_uri": "https://localhost:8080/",
     "height": 353
    },
    "deletable": false,
    "executionInfo": {
     "elapsed": 752,
     "status": "ok",
     "timestamp": 1607629310821,
     "user": {
      "displayName": "Марина Поминова",
      "photoUrl": "",
      "userId": "04196186528550871600"
     },
     "user_tz": -180
    },
    "id": "BV4W-CC_Wp5g",
    "nbgrader": {
     "cell_type": "code",
     "checksum": "250836b8f2dd9ee411bde96f73c106be",
     "grade": false,
     "grade_id": "cell-fbd57bcfb8f51740",
     "locked": false,
     "schema_version": 3,
     "solution": true,
     "task": false
    },
    "outputId": "8f2a7387-ab3e-4a22-fd08-6e1986378988"
   },
   "outputs": [],
   "source": [
    "X_tr['volume'] = X_tr.x * X_tr.y * X_tr.z\n",
    "X_te['volume'] = X_te.x * X_te.y * X_te.z"
   ]
  },
  {
   "cell_type": "code",
   "execution_count": 37,
   "metadata": {
    "deletable": false,
    "editable": false,
    "nbgrader": {
     "cell_type": "code",
     "checksum": "ba31f2bcca5d839747008c1e462934a5",
     "grade": true,
     "grade_id": "cell-1982ab69808024bc",
     "locked": true,
     "points": 1,
     "schema_version": 3,
     "solution": false,
     "task": false
    }
   },
   "outputs": [
    {
     "name": "stdout",
     "output_type": "stream",
     "text": [
      "Distribution of created features:\n"
     ]
    },
    {
     "data": {
      "text/plain": [
       "Text(0.5, 1.0, 'Volume on test')"
      ]
     },
     "execution_count": 37,
     "metadata": {},
     "output_type": "execute_result"
    },
    {
     "data": {
      "image/png": "[encoded data removed]",
      "text/plain": [
       "<Figure size 1000x400 with 2 Axes>"
      ]
     },
     "metadata": {},
     "output_type": "display_data"
    }
   ],
   "source": [
    "print(\"Distribution of created features:\")\n",
    "fig, ax = plt.subplots(ncols=2, figsize=(10, 4))\n",
    "X_tr[[\"volume\"]].hist(bins=20, grid=True, ax=ax[0])\n",
    "ax[0].set_title('Volume on train')\n",
    "X_te[[\"volume\"]].hist(bins=20, grid=True, ax=ax[1]);\n",
    "ax[0].set_title('Volume on test')\n"
   ]
  },
  {
   "cell_type": "code",
   "execution_count": 38,
   "metadata": {
    "colab": {
     "base_uri": "https://localhost:8080/"
    },
    "deletable": false,
    "editable": false,
    "executionInfo": {
     "elapsed": 690,
     "status": "ok",
     "timestamp": 1607629551794,
     "user": {
      "displayName": "Марина Поминова",
      "photoUrl": "",
      "userId": "04196186528550871600"
     },
     "user_tz": -180
    },
    "id": "OMjiPVlqYBgm",
    "nbgrader": {
     "cell_type": "code",
     "checksum": "a3a646738090454740251713da492ce6",
     "grade": false,
     "grade_id": "cell-831b425e449700cf",
     "locked": true,
     "schema_version": 3,
     "solution": false,
     "task": false
    },
    "outputId": "ce00c2e9-577a-4167-bb2c-247ad63271f5"
   },
   "outputs": [
    {
     "data": {
      "text/plain": [
       "['carat', 'depth', 'table', 'x', 'y', 'z', 'volume']"
      ]
     },
     "execution_count": 38,
     "metadata": {},
     "output_type": "execute_result"
    }
   ],
   "source": [
    "# update list of numerical features\n",
    "num_cols = X_tr.columns[np.logical_or(X_tr.dtypes == \"int64\", X_tr.dtypes == \"float64\")].tolist() #\n",
    "num_cols"
   ]
  },
  {
   "cell_type": "code",
   "execution_count": 39,
   "metadata": {
    "deletable": false,
    "editable": false,
    "id": "KHoZFnQTYb4L",
    "nbgrader": {
     "cell_type": "code",
     "checksum": "aa9f9b0de8b6a4860ba8d7878ad60250",
     "grade": false,
     "grade_id": "cell-c80e0b11846706a7",
     "locked": true,
     "schema_version": 3,
     "solution": false,
     "task": false
    }
   },
   "outputs": [],
   "source": [
    "# define columns transforms (nothing changes for ordinal and categorical features, but the list of numerical features was updated)\n",
    "col_transformer = ColumnTransformer(transformers = [\n",
    "    (\"num_col_transformer\", num_transformers_pipe, num_cols),\n",
    "    (\"cat_one_hot\", OneHotEncoder(handle_unknown=\"ignore\"), cat_cols),\n",
    "    (\"ord_enc\", ord_enc, ord_cols)\n",
    "], remainder='drop')\n",
    "\n",
    "model = Pipeline(steps = [\n",
    "    (\"col_transformer\", col_transformer),\n",
    "    (\"estimator\", KNeighborsRegressor())\n",
    "])"
   ]
  },
  {
   "cell_type": "code",
   "execution_count": 40,
   "metadata": {
    "colab": {
     "base_uri": "https://localhost:8080/"
    },
    "deletable": false,
    "editable": false,
    "executionInfo": {
     "elapsed": 12592,
     "status": "ok",
     "timestamp": 1607629564589,
     "user": {
      "displayName": "Марина Поминова",
      "photoUrl": "",
      "userId": "04196186528550871600"
     },
     "user_tz": -180
    },
    "id": "Rm6N9GCgYnmt",
    "nbgrader": {
     "cell_type": "code",
     "checksum": "35ed33c2d4330049bb97cd4388b4c5db",
     "grade": false,
     "grade_id": "cell-05aaaaea546ee03f",
     "locked": true,
     "schema_version": 3,
     "solution": false,
     "task": false
    },
    "outputId": "9326b371-1d8b-4a7b-f9c8-2c2f1e0073c9"
   },
   "outputs": [
    {
     "name": "stdout",
     "output_type": "stream",
     "text": [
      "Train MAE = 406.28\n",
      "Test MAE = 500.29\n"
     ]
    }
   ],
   "source": [
    "# evaluate model performance\n",
    "mae_tr, mae_te = evaluate_model(model, X_tr, y_tr, X_te, y_te)\n",
    "models_scores[\"num, cat & ord + engineering\"] = {\"train\" : mae_tr, \"test\" : mae_te}\n",
    "print(\"Train MAE = %.2f\" % mae_tr)\n",
    "print(\"Test MAE = %.2f\" % mae_te)"
   ]
  },
  {
   "attachments": {},
   "cell_type": "markdown",
   "metadata": {
    "deletable": false,
    "editable": false,
    "id": "Ch8dhnW4VCsb",
    "nbgrader": {
     "cell_type": "markdown",
     "checksum": "4930f77ca45e625dd9e8c704c4e266ae",
     "grade": false,
     "grade_id": "cell-53dab40b19b18986",
     "locked": true,
     "schema_version": 3,
     "solution": false,
     "task": false
    }
   },
   "source": [
    "Finally, we may look how model performance on train and test sets have changed depending on the used features."
   ]
  },
  {
   "cell_type": "code",
   "execution_count": 41,
   "metadata": {
    "colab": {
     "base_uri": "https://localhost:8080/",
     "height": 427
    },
    "deletable": false,
    "editable": false,
    "executionInfo": {
     "elapsed": 811,
     "status": "ok",
     "timestamp": 1607631874106,
     "user": {
      "displayName": "Марина Поминова",
      "photoUrl": "",
      "userId": "04196186528550871600"
     },
     "user_tz": -180
    },
    "id": "7-0Y18TrOpDt",
    "nbgrader": {
     "cell_type": "code",
     "checksum": "8f9edf655012d40b18906bc82baff65a",
     "grade": false,
     "grade_id": "cell-237899330899aafa",
     "locked": true,
     "schema_version": 3,
     "solution": false,
     "task": false
    },
    "outputId": "704067c0-10ad-4874-f787-881d1a1801a3"
   },
   "outputs": [
    {
     "data": {
      "image/png": "[encoded data removed]",
      "text/plain": [
       "<Figure size 1000x500 with 1 Axes>"
      ]
     },
     "metadata": {},
     "output_type": "display_data"
    }
   ],
   "source": [
    "models = list(models_scores.keys())\n",
    "train_scores = [models_scores[model][\"train\"] for model in models]\n",
    "test_scores = [models_scores[model][\"test\"] for model in models]\n",
    "\n",
    "plt.figure(figsize=(10, 5))\n",
    "plt.plot(train_scores)\n",
    "plt.plot(test_scores)\n",
    "plt.scatter(range(len(models)), train_scores, label=\"train\")\n",
    "plt.scatter(range(len(models)), test_scores, label=\"test\")\n",
    "plt.xticks(range(len(models)), models, rotation=30)\n",
    "plt.xlabel(\"Features used\", fontdict={\"size\" : 12})\n",
    "plt.ylabel(\"Model's MAE score\", fontdict={\"size\" : 12})\n",
    "plt.title(\"Dependence of model's score on the features used\", fontdict={\"size\" : 14})\n",
    "plt.legend()\n",
    "plt.grid()\n",
    "plt.show()"
   ]
  },
  {
   "attachments": {},
   "cell_type": "markdown",
   "metadata": {
    "deletable": false,
    "editable": false,
    "id": "w9-PEr8QWkyC",
    "nbgrader": {
     "cell_type": "markdown",
     "checksum": "36bec9522a440ff54b8d87534ed41320",
     "grade": false,
     "grade_id": "cell-a5cb5f37ad4de405",
     "locked": true,
     "schema_version": 3,
     "solution": false,
     "task": false
    }
   },
   "source": [
    "\n",
    "---\n",
    "## Part 2. Text data analysis <a class=\"anchor\" id=\"part2\"></a>\n",
    "---"
   ]
  },
  {
   "cell_type": "code",
   "execution_count": 42,
   "metadata": {
    "deletable": false,
    "editable": false,
    "id": "WqUtBM9TWkyC",
    "nbgrader": {
     "cell_type": "code",
     "checksum": "d00a33af527723c80972359b91e6b7ee",
     "grade": false,
     "grade_id": "cell-a81c39b7887189d1",
     "locked": true,
     "schema_version": 3,
     "solution": false,
     "task": false
    }
   },
   "outputs": [],
   "source": [
    "\n",
    "from sklearn.feature_extraction.text import CountVectorizer, TfidfVectorizer"
   ]
  },
  {
   "attachments": {},
   "cell_type": "markdown",
   "metadata": {
    "deletable": false,
    "editable": false,
    "id": "FmRn3nSmWkyC",
    "nbgrader": {
     "cell_type": "markdown",
     "checksum": "9b9277321c0f0172041b72c6410bb56d",
     "grade": false,
     "grade_id": "cell-aff2cfc0e87e7e02",
     "locked": true,
     "schema_version": 3,
     "solution": false,
     "task": false
    }
   },
   "source": [
    "---"
   ]
  },
  {
   "attachments": {},
   "cell_type": "markdown",
   "metadata": {
    "deletable": false,
    "editable": false,
    "id": "jMe0cbA7WkyC",
    "nbgrader": {
     "cell_type": "markdown",
     "checksum": "c383c75d844822aec549282a45a325a1",
     "grade": false,
     "grade_id": "cell-c32be2ee126baff8",
     "locked": true,
     "schema_version": 3,
     "solution": false,
     "task": false
    }
   },
   "source": [
    "In this part, we will solve the problem of prediction price of the wine based on text description of its characteristics. When working with text features, one have to first transform them into a vector form (vectorize) so that the model can process them. We wil consider two vectorization methods, \n",
    "* **Bag-of-Words** \n",
    "* **Tf-Idf**.\n",
    "\n",
    "Let's read the data:"
   ]
  },
  {
   "cell_type": "code",
   "execution_count": 43,
   "metadata": {
    "deletable": false,
    "editable": false,
    "id": "b11-5tr8WkyD",
    "nbgrader": {
     "cell_type": "code",
     "checksum": "9f54ef263c10795d38309019ac49207e",
     "grade": false,
     "grade_id": "cell-5329b3227161b72a",
     "locked": true,
     "schema_version": 3,
     "solution": false,
     "task": false
    }
   },
   "outputs": [],
   "source": [
    "df = pd.read_csv(\"data/winemag-data_first50k.csv\", index_col=0)\n",
    "# drop rows with unknown price\n",
    "df = df.loc[df[\"price\"].notnull()]\n",
    "\n",
    "y = df[\"price\"]\n",
    "X = df.drop([\"price\"], axis=1)\n",
    "\n",
    "X_tr, X_te, y_tr, y_te = train_test_split(X, y, test_size=0.3, random_state=1)"
   ]
  },
  {
   "attachments": {},
   "cell_type": "markdown",
   "metadata": {
    "deletable": false,
    "editable": false,
    "id": "xKyKy2uYWkyD",
    "nbgrader": {
     "cell_type": "markdown",
     "checksum": "825ff17344990d1abe516f3ef8c71cb1",
     "grade": false,
     "grade_id": "cell-2c047b3a44f90627",
     "locked": true,
     "schema_version": 3,
     "solution": false,
     "task": false
    }
   },
   "source": [
    "### Bag-of-Words vectorization\n",
    "\n",
    "Bag-of-Words is one of the most obvious and straight-forward for the text descriptions vectorization.\n",
    "In this case, we just create a feature column for each word appearing in the texts of the dataset. If the particular word is presented in the text description of a particular object, the value of the corresponding feature will be equal to 1, else - equal to 0. It is also possible to set the value of the feature to the number of times that the corresponding word has appeared in the object description.\n",
    "\n",
    "In `sklearn`, one can obtain bag-of-words vector representation of the text using the `CountVectorizer` transformer. Note, that in this case value of the resulting features will be equal to the number of times the corresponding word appeared in the object description text."
   ]
  },
  {
   "attachments": {},
   "cell_type": "markdown",
   "metadata": {
    "deletable": false,
    "editable": false,
    "id": "zy5tOJmIWkyD",
    "nbgrader": {
     "cell_type": "markdown",
     "checksum": "fb5b6ff28080dd9ad6a70c813105405b",
     "grade": false,
     "grade_id": "cell-f98bc2e5824fe74c",
     "locked": true,
     "schema_version": 3,
     "solution": false,
     "task": false
    }
   },
   "source": [
    "\n",
    "---\n",
    "Before vectorization, we need to prepare text descriptions. Here is a function to clear the text from all non-alphabetic characters and convert it to lowercase."
   ]
  },
  {
   "cell_type": "code",
   "execution_count": 44,
   "metadata": {
    "deletable": false,
    "id": "a6B52gVAWkyD",
    "nbgrader": {
     "cell_type": "code",
     "checksum": "70f15bd953725ccd62837dd9ec1d9d96",
     "grade": false,
     "grade_id": "cell-25e2882c43cf7177",
     "locked": false,
     "schema_version": 3,
     "solution": true,
     "task": false
    }
   },
   "outputs": [],
   "source": [
    "import re\n",
    "def prepare_text(text):\n",
    "    \"\"\"\n",
    "    Converts the text to lowercase and removes all the non-alphabetic characters\n",
    "    (the cleared text should contain only letters from a to z and space symbols).\n",
    "    \"\"\"\n",
    "    cleared_text = re.sub('[^a-zA-Z\\s]+', '', text.lower())\n",
    "    return cleared_text"
   ]
  },
  {
   "cell_type": "code",
   "execution_count": 45,
   "metadata": {
    "deletable": false,
    "editable": false,
    "id": "W6Bl5EqtWkyD",
    "nbgrader": {
     "cell_type": "code",
     "checksum": "46b3d113609a914dd769005a43d77bff",
     "grade": true,
     "grade_id": "cell-491389d3bcfc9e80",
     "locked": true,
     "points": 2,
     "schema_version": 3,
     "solution": false,
     "task": false
    }
   },
   "outputs": [],
   "source": [
    "### TEST prepare_text\n",
    "processed = prepare_text('CLEAR it!!!')\n",
    "assert 'clear it' == processed"
   ]
  },
  {
   "attachments": {},
   "cell_type": "markdown",
   "metadata": {
    "deletable": false,
    "editable": false,
    "nbgrader": {
     "cell_type": "markdown",
     "checksum": "e74791f161519220b7b61dc0123d08e4",
     "grade": false,
     "grade_id": "cell-5ae370e13c04fedc",
     "locked": true,
     "schema_version": 3,
     "solution": false,
     "task": false
    }
   },
   "source": [
    "\n",
    "---\n",
    "Let's apply `prepare_text` function to the `description` feature column in the datasets `X_tr` and `X_te`."
   ]
  },
  {
   "cell_type": "code",
   "execution_count": 46,
   "metadata": {
    "deletable": false,
    "id": "AD0_XhF9WkyD",
    "nbgrader": {
     "cell_type": "code",
     "checksum": "2d196fce2ca6131df18e351347b70240",
     "grade": false,
     "grade_id": "cell-2123ec0210d09ca6",
     "locked": false,
     "schema_version": 3,
     "solution": true,
     "task": false
    }
   },
   "outputs": [],
   "source": [
    "X_tr.description = X_tr.description.apply(prepare_text)\n",
    "X_te.description = X_te.description.apply(prepare_text)"
   ]
  },
  {
   "cell_type": "code",
   "execution_count": 47,
   "metadata": {
    "deletable": false,
    "editable": false,
    "nbgrader": {
     "cell_type": "code",
     "checksum": "0497b2570a4d8543415b98f276761aca",
     "grade": true,
     "grade_id": "cell-b100f9b1b744ac8f",
     "locked": true,
     "points": 1,
     "schema_version": 3,
     "solution": false,
     "task": false
    }
   },
   "outputs": [
    {
     "name": "stdout",
     "output_type": "stream",
     "text": [
      "this tremendous  varietal wine hails from oakville and was aged over three years in oak juicy redcherry fruit and a compelling hint of caramel greet the palate framed by elegant fine tannins and a subtle minty tone in the background balanced and rewarding from start to finish it has years ahead of it to develop further nuance enjoy \n"
     ]
    }
   ],
   "source": [
    "# make sure that string does not contain upper case letter and non-alphabetical characters\n",
    "print(X_tr[\"description\"][0])"
   ]
  },
  {
   "attachments": {},
   "cell_type": "markdown",
   "metadata": {},
   "source": [
    "\n",
    "---\n",
    "Perform the **Bag-of-Words vectorization** of the texts in `description` column, train the linear regression model on the obtained numerical features and evaluate its mean absolute error on the test set.\n",
    "\n",
    "- Firstly we will use `CountVectorizer` from sklearn to perform Bag-of-Words vectorization (the argument `min_df=0.001` is used to remove the words which appear in less then 0.1% of the documents).\n",
    "- Then we fit the vectorizer using descriptions from the train dataset.\n",
    "- And finally create `textfeats_tr` which contains transformed descriptions from the train dataset and `textfeats_te` which contains transformed descriptions from the test dataset."
   ]
  },
  {
   "cell_type": "code",
   "execution_count": 48,
   "metadata": {
    "deletable": false,
    "id": "ynyw-HBeWkyD",
    "nbgrader": {
     "cell_type": "code",
     "checksum": "8164941429bf7ca11566d94f1db9329d",
     "grade": false,
     "grade_id": "cell-6261a8396767b246",
     "locked": false,
     "schema_version": 3,
     "solution": true,
     "task": false
    }
   },
   "outputs": [],
   "source": [
    "bow_vectorizer = CountVectorizer(min_df=0.001)\n",
    "bow_vectorizer.fit(X_tr.description)\n",
    "textfeats_tr = bow_vectorizer.transform(X_tr.description)\n",
    "textfeats_te = bow_vectorizer.transform(X_te.description)"
   ]
  },
  {
   "cell_type": "code",
   "execution_count": 49,
   "metadata": {
    "deletable": false,
    "editable": false,
    "id": "xvAb-SeTWkyD",
    "nbgrader": {
     "cell_type": "code",
     "checksum": "188ddb6ce2b3d0632c6ed3824125ff4e",
     "grade": true,
     "grade_id": "cell-4ae5c84cf3158079",
     "locked": true,
     "points": 1,
     "schema_version": 3,
     "solution": false,
     "task": false
    }
   },
   "outputs": [
    {
     "name": "stdout",
     "output_type": "stream",
     "text": [
      "(31801, 2468)\n",
      "(13630, 2468)\n"
     ]
    }
   ],
   "source": [
    "### TEST bag-of-words vectorization\n",
    "print(textfeats_tr.shape)\n",
    "print(textfeats_te.shape)"
   ]
  },
  {
   "attachments": {},
   "cell_type": "markdown",
   "metadata": {
    "deletable": false,
    "editable": false,
    "nbgrader": {
     "cell_type": "markdown",
     "checksum": "4963f408fcdc4ea4de3a887ea3b70830",
     "grade": false,
     "grade_id": "cell-d2b9868c7331f4df",
     "locked": true,
     "schema_version": 3,
     "solution": false,
     "task": false
    }
   },
   "source": [
    "Train and evaluate a `LinearRegression` model on the obtained features. We will use function `evaluate_model`, that you've created in the previous part."
   ]
  },
  {
   "cell_type": "code",
   "execution_count": 50,
   "metadata": {
    "deletable": false,
    "editable": false,
    "id": "hD1810BBWkyD",
    "nbgrader": {
     "cell_type": "code",
     "checksum": "02eea24e5f4cc86536fdeacc5e534a42",
     "grade": false,
     "grade_id": "cell-7cda1c6f3e090681",
     "locked": true,
     "schema_version": 3,
     "solution": false,
     "task": false
    },
    "outputId": "f89fc250-d343-4d71-ad42-bc57fdde35ad"
   },
   "outputs": [
    {
     "name": "stdout",
     "output_type": "stream",
     "text": [
      "Train MAE = 16.941\n",
      "Test MAE = 18.684\n"
     ]
    }
   ],
   "source": [
    "model = LinearRegression()\n",
    "mae_tr, mae_te = evaluate_model(model, textfeats_tr, y_tr, \n",
    "                                textfeats_te, y_te)\n",
    "print(\"Train MAE = %.3f\" % mae_tr)\n",
    "print(\"Test MAE = %.3f\" % mae_te)"
   ]
  },
  {
   "attachments": {},
   "cell_type": "markdown",
   "metadata": {
    "deletable": false,
    "editable": false,
    "id": "vppR-f07WkyD",
    "nbgrader": {
     "cell_type": "markdown",
     "checksum": "0646e36aabbc9ea2b81babaaffff4c79",
     "grade": false,
     "grade_id": "cell-711d5f2cc7e7ee96",
     "locked": true,
     "schema_version": 3,
     "solution": false,
     "task": false
    }
   },
   "source": [
    "### Tf-Idf vectorization\n",
    "\n",
    "Another way to deal with text data is TF-IDF - Term Frequency - Inverse Document Frequency vectorization. "
   ]
  },
  {
   "attachments": {},
   "cell_type": "markdown",
   "metadata": {
    "deletable": false,
    "editable": false,
    "id": "pLMvt3B2WkyD",
    "nbgrader": {
     "cell_type": "markdown",
     "checksum": "bf661fbfa1e68c1ed341242e2629f3bf",
     "grade": false,
     "grade_id": "cell-751ffe9911c35d76",
     "locked": true,
     "schema_version": 3,
     "solution": false,
     "task": false
    }
   },
   "source": [
    "\n",
    "---\n",
    "Perform **Tf-Idf vectorization** of the cleaned description obtained in the previous step. \n",
    "\n",
    "- Firstly we use `TfidfVectorizer` from sklearn to perform Bag-of-Words vectorization (the argument `min_df=0.001` is used to remove the words which appear in less then 0.1% of the documents).\n",
    "- Then we fit the vectorizer using descriptions from the train dataset.\n",
    "- And finally create `textfeats_tr` which contains transformed descriptions from the train dataset and `textfeats_te` which contains transformed descriptions from the test dataset."
   ]
  },
  {
   "cell_type": "code",
   "execution_count": 51,
   "metadata": {
    "deletable": false,
    "id": "h8VQRr9mWkyD",
    "nbgrader": {
     "cell_type": "code",
     "checksum": "ecf92894c8a9a0ec2f3705dbefc29c99",
     "grade": false,
     "grade_id": "cell-1253b9f2b4143df7",
     "locked": false,
     "schema_version": 3,
     "solution": true,
     "task": false
    }
   },
   "outputs": [],
   "source": [
    "tfidf_vectorizer = TfidfVectorizer(min_df=0.001)\n",
    "tfidf_vectorizer.fit(X_tr.description)\n",
    "textfeats_tr = tfidf_vectorizer.transform(X_tr.description)\n",
    "textfeats_te = tfidf_vectorizer.transform(X_te.description)"
   ]
  },
  {
   "cell_type": "code",
   "execution_count": 52,
   "metadata": {
    "deletable": false,
    "editable": false,
    "nbgrader": {
     "cell_type": "code",
     "checksum": "5a0ef87a3e11ee0ee282f406c9128111",
     "grade": true,
     "grade_id": "cell-5ce6a8403c6f1cb0",
     "locked": true,
     "points": 1,
     "schema_version": 3,
     "solution": false,
     "task": false
    }
   },
   "outputs": [
    {
     "name": "stdout",
     "output_type": "stream",
     "text": [
      "(31801, 2468)\n",
      "(13630, 2468)\n"
     ]
    }
   ],
   "source": [
    "### TEST bag-of-words vectorization\n",
    "print(textfeats_tr.shape)\n",
    "print(textfeats_te.shape)"
   ]
  },
  {
   "attachments": {},
   "cell_type": "markdown",
   "metadata": {
    "deletable": false,
    "editable": false,
    "nbgrader": {
     "cell_type": "markdown",
     "checksum": "b7b8545899f16401d70c189c6d8d395b",
     "grade": false,
     "grade_id": "cell-e58ac7fe97d34521",
     "locked": true,
     "schema_version": 3,
     "solution": false,
     "task": false
    }
   },
   "source": [
    "Again, we need to train and evaluate the linear regression model on the vectorized text features."
   ]
  },
  {
   "cell_type": "code",
   "execution_count": 53,
   "metadata": {
    "deletable": false,
    "editable": false,
    "id": "nKwaDhPoWkyD",
    "nbgrader": {
     "cell_type": "code",
     "checksum": "8d11c459e8bf765671f8e3638b1aeccf",
     "grade": false,
     "grade_id": "cell-ddbb2ede716a0d16",
     "locked": true,
     "schema_version": 3,
     "solution": false,
     "task": false
    },
    "outputId": "1e6b5f29-7cb4-4fd6-836c-513c9d307802"
   },
   "outputs": [
    {
     "name": "stdout",
     "output_type": "stream",
     "text": [
      "Train MAE = 16.893\n",
      "Test MAE = 18.540\n"
     ]
    }
   ],
   "source": [
    "model = LinearRegression()\n",
    "mae_tr, mae_te = evaluate_model(model, textfeats_tr, y_tr, \n",
    "                                textfeats_te, y_te)\n",
    "print(\"Train MAE = %.3f\" % mae_tr)\n",
    "print(\"Test MAE = %.3f\" % mae_te)"
   ]
  }
 ],
 "metadata": {
  "colab": {
   "authorship_tag": "ABX9TyMQRY7nzsLHW7b9DxofAant",
   "collapsed_sections": [
    "xKyKy2uYWkyD",
    "zy5tOJmIWkyD",
    "vppR-f07WkyD"
   ],
   "name": "HW 1",
   "provenance": [
    {
     "file_id": "1wzx_Qny7A-fXUqfiWgn6q5qZJ3zAueKM",
     "timestamp": 1607432099194
    }
   ]
  },
  "kernelspec": {
   "display_name": "Python 3.10.4 ('machine_learning')",
   "language": "python",
   "name": "python3"
  },
  "language_info": {
   "codemirror_mode": {
    "name": "ipython",
    "version": 3
   },
   "file_extension": ".py",
   "mimetype": "text/x-python",
   "name": "python",
   "nbconvert_exporter": "python",
   "pygments_lexer": "ipython3",
   "version": "3.10.11"
  },
  "vscode": {
   "interpreter": {
    "hash": "5d9a420dd7d9958c9bfab5a33c6b672d78ee78f6ceacdd75e61df641f7a5961d"
   }
  }
 },
 "nbformat": 4,
 "nbformat_minor": 1
}
